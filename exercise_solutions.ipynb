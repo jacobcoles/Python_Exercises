{
 "cells": [
  {
   "cell_type": "markdown",
   "metadata": {},
   "source": [
    "# Pandas Exercise Solutions\n",
    "\n",
    "This notebook contains working solutions for all the exercises."
   ]
  },
  {
   "cell_type": "markdown",
   "metadata": {},
   "source": [
    "## Setup: Load Data and Libraries"
   ]
  },
  {
   "cell_type": "code",
   "execution_count": 24,
   "metadata": {},
   "outputs": [
    {
     "name": "stdout",
     "output_type": "stream",
     "text": [
      "Libraries imported successfully!\n"
     ]
    }
   ],
   "source": [
    "import pandas as pd\n",
    "import numpy as np\n",
    "from datetime import datetime, timedelta\n",
    "import warnings\n",
    "warnings.filterwarnings('ignore')\n",
    "\n",
    "# Set display options\n",
    "pd.set_option('display.max_columns', None)\n",
    "pd.set_option('display.max_rows', 100)\n",
    "pd.set_option('display.float_format', '{:.2f}'.format)\n",
    "\n",
    "print(\"Libraries imported successfully!\")"
   ]
  },
  {
   "cell_type": "code",
   "execution_count": 25,
   "metadata": {},
   "outputs": [
    {
     "name": "stdout",
     "output_type": "stream",
     "text": [
      "✓ Data loaded successfully!\n",
      "Sales: 260 rows × 7 columns\n",
      "Products: 8 rows × 5 columns\n",
      "Regions: 5 rows × 2 columns\n"
     ]
    }
   ],
   "source": [
    "# Load the data files\n",
    "sales = pd.read_csv('files/sales_records.csv')\n",
    "products = pd.read_csv('files/products_master.csv')\n",
    "regions = pd.read_csv('files/regions_dim.csv')\n",
    "\n",
    "print(f\"✓ Data loaded successfully!\")\n",
    "print(f\"Sales: {len(sales)} rows × {len(sales.columns)} columns\")\n",
    "print(f\"Products: {len(products)} rows × {len(products.columns)} columns\")\n",
    "print(f\"Regions: {len(regions)} rows × {len(regions.columns)} columns\")"
   ]
  },
  {
   "cell_type": "code",
   "execution_count": 26,
   "metadata": {},
   "outputs": [
    {
     "name": "stdout",
     "output_type": "stream",
     "text": [
      "Sales sample:\n"
     ]
    },
    {
     "data": {
      "text/html": [
       "<div>\n",
       "<style scoped>\n",
       "    .dataframe tbody tr th:only-of-type {\n",
       "        vertical-align: middle;\n",
       "    }\n",
       "\n",
       "    .dataframe tbody tr th {\n",
       "        vertical-align: top;\n",
       "    }\n",
       "\n",
       "    .dataframe thead th {\n",
       "        text-align: right;\n",
       "    }\n",
       "</style>\n",
       "<table border=\"1\" class=\"dataframe\">\n",
       "  <thead>\n",
       "    <tr style=\"text-align: right;\">\n",
       "      <th></th>\n",
       "      <th>order_id</th>\n",
       "      <th>order_date</th>\n",
       "      <th>product_id</th>\n",
       "      <th>region_code</th>\n",
       "      <th>units</th>\n",
       "      <th>unit_price</th>\n",
       "      <th>revenue</th>\n",
       "    </tr>\n",
       "  </thead>\n",
       "  <tbody>\n",
       "    <tr>\n",
       "      <th>0</th>\n",
       "      <td>SO-10000</td>\n",
       "      <td>2024-09-06</td>\n",
       "      <td>P-ENT</td>\n",
       "      <td>EMEA</td>\n",
       "      <td>6</td>\n",
       "      <td>513.77</td>\n",
       "      <td>3082.59</td>\n",
       "    </tr>\n",
       "    <tr>\n",
       "      <th>1</th>\n",
       "      <td>SO-10001</td>\n",
       "      <td>2024-09-02</td>\n",
       "      <td>P-ADD</td>\n",
       "      <td>APAC</td>\n",
       "      <td>18</td>\n",
       "      <td>30.91</td>\n",
       "      <td>556.34</td>\n",
       "    </tr>\n",
       "    <tr>\n",
       "      <th>2</th>\n",
       "      <td>SO-10002</td>\n",
       "      <td>2024-06-25</td>\n",
       "      <td>P-ANL</td>\n",
       "      <td>EMEA</td>\n",
       "      <td>8</td>\n",
       "      <td>302.84</td>\n",
       "      <td>2422.68</td>\n",
       "    </tr>\n",
       "    <tr>\n",
       "      <th>3</th>\n",
       "      <td>SO-10003</td>\n",
       "      <td>2025-02-20</td>\n",
       "      <td>P-PLS</td>\n",
       "      <td>EMEA</td>\n",
       "      <td>37</td>\n",
       "      <td>112.30</td>\n",
       "      <td>4155.00</td>\n",
       "    </tr>\n",
       "    <tr>\n",
       "      <th>4</th>\n",
       "      <td>SO-10004</td>\n",
       "      <td>2025-08-04</td>\n",
       "      <td>P-PLS</td>\n",
       "      <td>EMEA</td>\n",
       "      <td>23</td>\n",
       "      <td>108.11</td>\n",
       "      <td>2486.50</td>\n",
       "    </tr>\n",
       "  </tbody>\n",
       "</table>\n",
       "</div>"
      ],
      "text/plain": [
       "   order_id  order_date product_id region_code  units  unit_price  revenue\n",
       "0  SO-10000  2024-09-06      P-ENT        EMEA      6      513.77  3082.59\n",
       "1  SO-10001  2024-09-02      P-ADD        APAC     18       30.91   556.34\n",
       "2  SO-10002  2024-06-25      P-ANL        EMEA      8      302.84  2422.68\n",
       "3  SO-10003  2025-02-20      P-PLS        EMEA     37      112.30  4155.00\n",
       "4  SO-10004  2025-08-04      P-PLS        EMEA     23      108.11  2486.50"
      ]
     },
     "metadata": {},
     "output_type": "display_data"
    },
    {
     "name": "stdout",
     "output_type": "stream",
     "text": [
      "\n",
      "Products:\n"
     ]
    },
    {
     "data": {
      "text/html": [
       "<div>\n",
       "<style scoped>\n",
       "    .dataframe tbody tr th:only-of-type {\n",
       "        vertical-align: middle;\n",
       "    }\n",
       "\n",
       "    .dataframe tbody tr th {\n",
       "        vertical-align: top;\n",
       "    }\n",
       "\n",
       "    .dataframe thead th {\n",
       "        text-align: right;\n",
       "    }\n",
       "</style>\n",
       "<table border=\"1\" class=\"dataframe\">\n",
       "  <thead>\n",
       "    <tr style=\"text-align: right;\">\n",
       "      <th></th>\n",
       "      <th>product_id</th>\n",
       "      <th>product</th>\n",
       "      <th>category</th>\n",
       "      <th>list_price</th>\n",
       "      <th>status</th>\n",
       "    </tr>\n",
       "  </thead>\n",
       "  <tbody>\n",
       "    <tr>\n",
       "      <th>0</th>\n",
       "      <td>P-BSC</td>\n",
       "      <td>Basic</td>\n",
       "      <td>Core</td>\n",
       "      <td>49.00</td>\n",
       "      <td>Active</td>\n",
       "    </tr>\n",
       "    <tr>\n",
       "      <th>1</th>\n",
       "      <td>P-PLS</td>\n",
       "      <td>Plus</td>\n",
       "      <td>Core</td>\n",
       "      <td>99.00</td>\n",
       "      <td>Active</td>\n",
       "    </tr>\n",
       "    <tr>\n",
       "      <th>2</th>\n",
       "      <td>P-PRO</td>\n",
       "      <td>Pro</td>\n",
       "      <td>Core</td>\n",
       "      <td>199.00</td>\n",
       "      <td>Active</td>\n",
       "    </tr>\n",
       "    <tr>\n",
       "      <th>3</th>\n",
       "      <td>P-ENT</td>\n",
       "      <td>Enterprise</td>\n",
       "      <td>Suite</td>\n",
       "      <td>499.00</td>\n",
       "      <td>Active</td>\n",
       "    </tr>\n",
       "    <tr>\n",
       "      <th>4</th>\n",
       "      <td>P-ANL</td>\n",
       "      <td>Analytics</td>\n",
       "      <td>Addon</td>\n",
       "      <td>299.00</td>\n",
       "      <td>Active</td>\n",
       "    </tr>\n",
       "    <tr>\n",
       "      <th>5</th>\n",
       "      <td>P-ADD</td>\n",
       "      <td>Add-on</td>\n",
       "      <td>Addon</td>\n",
       "      <td>29.00</td>\n",
       "      <td>Active</td>\n",
       "    </tr>\n",
       "    <tr>\n",
       "      <th>6</th>\n",
       "      <td>P-LGC</td>\n",
       "      <td>Legacy</td>\n",
       "      <td>Legacy</td>\n",
       "      <td>79.00</td>\n",
       "      <td>Discontinued</td>\n",
       "    </tr>\n",
       "    <tr>\n",
       "      <th>7</th>\n",
       "      <td>P-BTA</td>\n",
       "      <td>Beta</td>\n",
       "      <td>Beta</td>\n",
       "      <td>59.00</td>\n",
       "      <td>Preview</td>\n",
       "    </tr>\n",
       "  </tbody>\n",
       "</table>\n",
       "</div>"
      ],
      "text/plain": [
       "  product_id     product category  list_price        status\n",
       "0      P-BSC       Basic     Core       49.00        Active\n",
       "1      P-PLS        Plus     Core       99.00        Active\n",
       "2      P-PRO         Pro     Core      199.00        Active\n",
       "3      P-ENT  Enterprise    Suite      499.00        Active\n",
       "4      P-ANL   Analytics    Addon      299.00        Active\n",
       "5      P-ADD      Add-on    Addon       29.00        Active\n",
       "6      P-LGC      Legacy   Legacy       79.00  Discontinued\n",
       "7      P-BTA        Beta     Beta       59.00       Preview"
      ]
     },
     "metadata": {},
     "output_type": "display_data"
    },
    {
     "name": "stdout",
     "output_type": "stream",
     "text": [
      "\n",
      "Regions:\n"
     ]
    },
    {
     "data": {
      "text/html": [
       "<div>\n",
       "<style scoped>\n",
       "    .dataframe tbody tr th:only-of-type {\n",
       "        vertical-align: middle;\n",
       "    }\n",
       "\n",
       "    .dataframe tbody tr th {\n",
       "        vertical-align: top;\n",
       "    }\n",
       "\n",
       "    .dataframe thead th {\n",
       "        text-align: right;\n",
       "    }\n",
       "</style>\n",
       "<table border=\"1\" class=\"dataframe\">\n",
       "  <thead>\n",
       "    <tr style=\"text-align: right;\">\n",
       "      <th></th>\n",
       "      <th>region_code</th>\n",
       "      <th>region</th>\n",
       "    </tr>\n",
       "  </thead>\n",
       "  <tbody>\n",
       "    <tr>\n",
       "      <th>0</th>\n",
       "      <td>AMER</td>\n",
       "      <td>AMER</td>\n",
       "    </tr>\n",
       "    <tr>\n",
       "      <th>1</th>\n",
       "      <td>EMEA</td>\n",
       "      <td>EMEA</td>\n",
       "    </tr>\n",
       "    <tr>\n",
       "      <th>2</th>\n",
       "      <td>APAC</td>\n",
       "      <td>APAC</td>\n",
       "    </tr>\n",
       "    <tr>\n",
       "      <th>3</th>\n",
       "      <td>NORD</td>\n",
       "      <td>Nordics</td>\n",
       "    </tr>\n",
       "    <tr>\n",
       "      <th>4</th>\n",
       "      <td>ANZ</td>\n",
       "      <td>Australia/NZ</td>\n",
       "    </tr>\n",
       "  </tbody>\n",
       "</table>\n",
       "</div>"
      ],
      "text/plain": [
       "  region_code        region\n",
       "0        AMER          AMER\n",
       "1        EMEA          EMEA\n",
       "2        APAC          APAC\n",
       "3        NORD       Nordics\n",
       "4         ANZ  Australia/NZ"
      ]
     },
     "metadata": {},
     "output_type": "display_data"
    }
   ],
   "source": [
    "# Quick preview of the data\n",
    "print(\"Sales sample:\")\n",
    "display(sales.head())\n",
    "print(\"\\nProducts:\")\n",
    "display(products)\n",
    "print(\"\\nRegions:\")\n",
    "display(regions)"
   ]
  },
  {
   "cell_type": "markdown",
   "metadata": {},
   "source": [
    "---\n",
    "# Exercise 1: Basic Filtering & Boolean Logic\n",
    "\n",
    "**Goal:** Filter sales data using multiple conditions"
   ]
  },
  {
   "cell_type": "code",
   "execution_count": 27,
   "metadata": {},
   "outputs": [
    {
     "name": "stdout",
     "output_type": "stream",
     "text": [
      "Task 1 - AMER or EMEA sales: 154 rows\n",
      "Task 2 - Plus or Pro products: 86 rows\n",
      "Task 3 - Transactions with 20+ units: 97 rows\n",
      "Task 4 - All three filters combined: 16 rows\n",
      "\n",
      "Sample of highly filtered results:\n"
     ]
    },
    {
     "data": {
      "text/html": [
       "<div>\n",
       "<style scoped>\n",
       "    .dataframe tbody tr th:only-of-type {\n",
       "        vertical-align: middle;\n",
       "    }\n",
       "\n",
       "    .dataframe tbody tr th {\n",
       "        vertical-align: top;\n",
       "    }\n",
       "\n",
       "    .dataframe thead th {\n",
       "        text-align: right;\n",
       "    }\n",
       "</style>\n",
       "<table border=\"1\" class=\"dataframe\">\n",
       "  <thead>\n",
       "    <tr style=\"text-align: right;\">\n",
       "      <th></th>\n",
       "      <th>order_id</th>\n",
       "      <th>product_id</th>\n",
       "      <th>region_code</th>\n",
       "      <th>units</th>\n",
       "      <th>revenue</th>\n",
       "    </tr>\n",
       "  </thead>\n",
       "  <tbody>\n",
       "    <tr>\n",
       "      <th>3</th>\n",
       "      <td>SO-10003</td>\n",
       "      <td>P-PLS</td>\n",
       "      <td>EMEA</td>\n",
       "      <td>37</td>\n",
       "      <td>4155.00</td>\n",
       "    </tr>\n",
       "    <tr>\n",
       "      <th>4</th>\n",
       "      <td>SO-10004</td>\n",
       "      <td>P-PLS</td>\n",
       "      <td>EMEA</td>\n",
       "      <td>23</td>\n",
       "      <td>2486.50</td>\n",
       "    </tr>\n",
       "    <tr>\n",
       "      <th>54</th>\n",
       "      <td>SO-10054</td>\n",
       "      <td>P-PLS</td>\n",
       "      <td>AMER</td>\n",
       "      <td>20</td>\n",
       "      <td>2112.26</td>\n",
       "    </tr>\n",
       "    <tr>\n",
       "      <th>57</th>\n",
       "      <td>SO-10057</td>\n",
       "      <td>P-PLS</td>\n",
       "      <td>AMER</td>\n",
       "      <td>31</td>\n",
       "      <td>3258.17</td>\n",
       "    </tr>\n",
       "    <tr>\n",
       "      <th>71</th>\n",
       "      <td>SO-10071</td>\n",
       "      <td>P-PLS</td>\n",
       "      <td>AMER</td>\n",
       "      <td>22</td>\n",
       "      <td>2290.99</td>\n",
       "    </tr>\n",
       "  </tbody>\n",
       "</table>\n",
       "</div>"
      ],
      "text/plain": [
       "    order_id product_id region_code  units  revenue\n",
       "3   SO-10003      P-PLS        EMEA     37  4155.00\n",
       "4   SO-10004      P-PLS        EMEA     23  2486.50\n",
       "54  SO-10054      P-PLS        AMER     20  2112.26\n",
       "57  SO-10057      P-PLS        AMER     31  3258.17\n",
       "71  SO-10071      P-PLS        AMER     22  2290.99"
      ]
     },
     "metadata": {},
     "output_type": "display_data"
    }
   ],
   "source": [
    "# Task 1: Sales in AMER or EMEA\n",
    "task1 = sales[sales['region_code'].isin(['AMER', 'EMEA'])]\n",
    "print(f\"Task 1 - AMER or EMEA sales: {len(task1)} rows\")\n",
    "\n",
    "# Task 2: Plus or Pro products\n",
    "task2 = sales[sales['product_id'].isin(['P-PLS', 'P-PRO'])]\n",
    "print(f\"Task 2 - Plus or Pro products: {len(task2)} rows\")\n",
    "\n",
    "# Task 3: 20+ units\n",
    "task3 = sales[sales['units'] >= 20]\n",
    "print(f\"Task 3 - Transactions with 20+ units: {len(task3)} rows\")\n",
    "\n",
    "# Task 4: Combined filters\n",
    "task4 = sales[\n",
    "    (sales['region_code'].isin(['AMER', 'EMEA'])) & \n",
    "    (sales['product_id'].isin(['P-PLS', 'P-PRO'])) & \n",
    "    (sales['units'] >= 20)\n",
    "]\n",
    "print(f\"Task 4 - All three filters combined: {len(task4)} rows\")\n",
    "\n",
    "print(\"\\nSample of highly filtered results:\")\n",
    "display(task4[['order_id', 'product_id', 'region_code', 'units', 'revenue']].head())"
   ]
  },
  {
   "cell_type": "code",
   "execution_count": 28,
   "metadata": {},
   "outputs": [
    {
     "name": "stdout",
     "output_type": "stream",
     "text": [
      "Bonus - Sales with >10% discount: 12 rows\n",
      "Average discount: 12.2%\n"
     ]
    }
   ],
   "source": [
    "# Bonus: Sales with >10% discount (requires joining with products first)\n",
    "sales_with_products = sales.merge(products, on='product_id', how='inner')\n",
    "sales_with_products['discount_pct'] = (\n",
    "    (sales_with_products['list_price'] - sales_with_products['unit_price']) \n",
    "    / sales_with_products['list_price'] * 100\n",
    ")\n",
    "large_discounts = sales_with_products[sales_with_products['discount_pct'] > 10]\n",
    "\n",
    "print(f\"Bonus - Sales with >10% discount: {len(large_discounts)} rows\")\n",
    "print(f\"Average discount: {large_discounts['discount_pct'].mean():.1f}%\")"
   ]
  },
  {
   "cell_type": "markdown",
   "metadata": {},
   "source": [
    "---\n",
    "# Exercise 2: Aggregation & Grouping\n",
    "\n",
    "**Goal:** Summarize sales by different dimensions"
   ]
  },
  {
   "cell_type": "code",
   "execution_count": 29,
   "metadata": {},
   "outputs": [
    {
     "name": "stdout",
     "output_type": "stream",
     "text": [
      "Task 1 - Revenue and Units by Product:\n"
     ]
    },
    {
     "data": {
      "text/html": [
       "<div>\n",
       "<style scoped>\n",
       "    .dataframe tbody tr th:only-of-type {\n",
       "        vertical-align: middle;\n",
       "    }\n",
       "\n",
       "    .dataframe tbody tr th {\n",
       "        vertical-align: top;\n",
       "    }\n",
       "\n",
       "    .dataframe thead th {\n",
       "        text-align: right;\n",
       "    }\n",
       "</style>\n",
       "<table border=\"1\" class=\"dataframe\">\n",
       "  <thead>\n",
       "    <tr style=\"text-align: right;\">\n",
       "      <th></th>\n",
       "      <th>revenue</th>\n",
       "      <th>units</th>\n",
       "    </tr>\n",
       "    <tr>\n",
       "      <th>product_id</th>\n",
       "      <th></th>\n",
       "      <th></th>\n",
       "    </tr>\n",
       "  </thead>\n",
       "  <tbody>\n",
       "    <tr>\n",
       "      <th>P-ADD</th>\n",
       "      <td>27858.94</td>\n",
       "      <td>934</td>\n",
       "    </tr>\n",
       "    <tr>\n",
       "      <th>P-ANL</th>\n",
       "      <td>78646.03</td>\n",
       "      <td>264</td>\n",
       "    </tr>\n",
       "    <tr>\n",
       "      <th>P-BSC</th>\n",
       "      <td>63236.10</td>\n",
       "      <td>1307</td>\n",
       "    </tr>\n",
       "    <tr>\n",
       "      <th>P-ENT</th>\n",
       "      <td>103398.34</td>\n",
       "      <td>212</td>\n",
       "    </tr>\n",
       "    <tr>\n",
       "      <th>P-OEM</th>\n",
       "      <td>3247.21</td>\n",
       "      <td>83</td>\n",
       "    </tr>\n",
       "    <tr>\n",
       "      <th>P-PLS</th>\n",
       "      <td>88102.19</td>\n",
       "      <td>879</td>\n",
       "    </tr>\n",
       "    <tr>\n",
       "      <th>P-PRO</th>\n",
       "      <td>93257.12</td>\n",
       "      <td>469</td>\n",
       "    </tr>\n",
       "    <tr>\n",
       "      <th>P-TRI</th>\n",
       "      <td>2981.93</td>\n",
       "      <td>336</td>\n",
       "    </tr>\n",
       "  </tbody>\n",
       "</table>\n",
       "</div>"
      ],
      "text/plain": [
       "             revenue  units\n",
       "product_id                 \n",
       "P-ADD       27858.94    934\n",
       "P-ANL       78646.03    264\n",
       "P-BSC       63236.10   1307\n",
       "P-ENT      103398.34    212\n",
       "P-OEM        3247.21     83\n",
       "P-PLS       88102.19    879\n",
       "P-PRO       93257.12    469\n",
       "P-TRI        2981.93    336"
      ]
     },
     "metadata": {},
     "output_type": "display_data"
    }
   ],
   "source": [
    "# Task 1: Revenue and units by product\n",
    "by_product = sales.groupby('product_id').agg({\n",
    "    'revenue': 'sum',\n",
    "    'units': 'sum'\n",
    "}).round(2)\n",
    "\n",
    "print(\"Task 1 - Revenue and Units by Product:\")\n",
    "display(by_product)"
   ]
  },
  {
   "cell_type": "code",
   "execution_count": 30,
   "metadata": {},
   "outputs": [
    {
     "name": "stdout",
     "output_type": "stream",
     "text": [
      "Task 2 - Average Unit Price by Region:\n"
     ]
    },
    {
     "data": {
      "text/plain": [
       "region_code\n",
       "AMER    207.48\n",
       "APAC    159.32\n",
       "EMEA    161.52\n",
       "LATAM   254.51\n",
       "NORD    174.67\n",
       "Name: unit_price, dtype: float64"
      ]
     },
     "metadata": {},
     "output_type": "display_data"
    }
   ],
   "source": [
    "# Task 2: Average unit price per region\n",
    "avg_price_by_region = sales.groupby('region_code')['unit_price'].mean().round(2)\n",
    "\n",
    "print(\"Task 2 - Average Unit Price by Region:\")\n",
    "display(avg_price_by_region)"
   ]
  },
  {
   "cell_type": "code",
   "execution_count": 31,
   "metadata": {},
   "outputs": [
    {
     "name": "stdout",
     "output_type": "stream",
     "text": [
      "Task 3 - Product × Region Revenue Matrix:\n"
     ]
    },
    {
     "data": {
      "text/html": [
       "<div>\n",
       "<style scoped>\n",
       "    .dataframe tbody tr th:only-of-type {\n",
       "        vertical-align: middle;\n",
       "    }\n",
       "\n",
       "    .dataframe tbody tr th {\n",
       "        vertical-align: top;\n",
       "    }\n",
       "\n",
       "    .dataframe thead th {\n",
       "        text-align: right;\n",
       "    }\n",
       "</style>\n",
       "<table border=\"1\" class=\"dataframe\">\n",
       "  <thead>\n",
       "    <tr style=\"text-align: right;\">\n",
       "      <th>region_code</th>\n",
       "      <th>AMER</th>\n",
       "      <th>APAC</th>\n",
       "      <th>EMEA</th>\n",
       "      <th>LATAM</th>\n",
       "      <th>NORD</th>\n",
       "    </tr>\n",
       "    <tr>\n",
       "      <th>product_id</th>\n",
       "      <th></th>\n",
       "      <th></th>\n",
       "      <th></th>\n",
       "      <th></th>\n",
       "      <th></th>\n",
       "    </tr>\n",
       "  </thead>\n",
       "  <tbody>\n",
       "    <tr>\n",
       "      <th>P-ADD</th>\n",
       "      <td>7157.68</td>\n",
       "      <td>6028.36</td>\n",
       "      <td>13550.26</td>\n",
       "      <td>0.00</td>\n",
       "      <td>1122.64</td>\n",
       "    </tr>\n",
       "    <tr>\n",
       "      <th>P-ANL</th>\n",
       "      <td>29145.76</td>\n",
       "      <td>16493.79</td>\n",
       "      <td>25082.02</td>\n",
       "      <td>3361.73</td>\n",
       "      <td>4562.73</td>\n",
       "    </tr>\n",
       "    <tr>\n",
       "      <th>P-BSC</th>\n",
       "      <td>23934.16</td>\n",
       "      <td>17957.99</td>\n",
       "      <td>13510.18</td>\n",
       "      <td>2113.97</td>\n",
       "      <td>5719.80</td>\n",
       "    </tr>\n",
       "    <tr>\n",
       "      <th>P-ENT</th>\n",
       "      <td>48927.76</td>\n",
       "      <td>29289.86</td>\n",
       "      <td>13617.57</td>\n",
       "      <td>5617.38</td>\n",
       "      <td>5945.77</td>\n",
       "    </tr>\n",
       "    <tr>\n",
       "      <th>P-OEM</th>\n",
       "      <td>340.29</td>\n",
       "      <td>1370.79</td>\n",
       "      <td>1536.13</td>\n",
       "      <td>0.00</td>\n",
       "      <td>0.00</td>\n",
       "    </tr>\n",
       "    <tr>\n",
       "      <th>P-PLS</th>\n",
       "      <td>33820.45</td>\n",
       "      <td>25607.96</td>\n",
       "      <td>23151.35</td>\n",
       "      <td>1694.17</td>\n",
       "      <td>3828.26</td>\n",
       "    </tr>\n",
       "    <tr>\n",
       "      <th>P-PRO</th>\n",
       "      <td>25384.96</td>\n",
       "      <td>15531.19</td>\n",
       "      <td>42964.14</td>\n",
       "      <td>1156.39</td>\n",
       "      <td>8220.44</td>\n",
       "    </tr>\n",
       "    <tr>\n",
       "      <th>P-TRI</th>\n",
       "      <td>0.00</td>\n",
       "      <td>1347.70</td>\n",
       "      <td>1075.55</td>\n",
       "      <td>331.91</td>\n",
       "      <td>226.77</td>\n",
       "    </tr>\n",
       "  </tbody>\n",
       "</table>\n",
       "</div>"
      ],
      "text/plain": [
       "region_code     AMER     APAC     EMEA   LATAM    NORD\n",
       "product_id                                            \n",
       "P-ADD        7157.68  6028.36 13550.26    0.00 1122.64\n",
       "P-ANL       29145.76 16493.79 25082.02 3361.73 4562.73\n",
       "P-BSC       23934.16 17957.99 13510.18 2113.97 5719.80\n",
       "P-ENT       48927.76 29289.86 13617.57 5617.38 5945.77\n",
       "P-OEM         340.29  1370.79  1536.13    0.00    0.00\n",
       "P-PLS       33820.45 25607.96 23151.35 1694.17 3828.26\n",
       "P-PRO       25384.96 15531.19 42964.14 1156.39 8220.44\n",
       "P-TRI           0.00  1347.70  1075.55  331.91  226.77"
      ]
     },
     "metadata": {},
     "output_type": "display_data"
    }
   ],
   "source": [
    "# Task 3: Product × Region summary matrix\n",
    "product_region = sales.pivot_table(\n",
    "    index='product_id',\n",
    "    columns='region_code',\n",
    "    values='revenue',\n",
    "    aggfunc='sum',\n",
    "    fill_value=0\n",
    ").round(2)\n",
    "\n",
    "print(\"Task 3 - Product × Region Revenue Matrix:\")\n",
    "display(product_region)"
   ]
  },
  {
   "cell_type": "code",
   "execution_count": 32,
   "metadata": {},
   "outputs": [
    {
     "name": "stdout",
     "output_type": "stream",
     "text": [
      "Task 4 - Revenue by Month:\n"
     ]
    },
    {
     "data": {
      "text/plain": [
       "year_month\n",
       "2024-01   26395.92\n",
       "2024-02   17673.05\n",
       "2024-03   13480.63\n",
       "2024-04   35497.58\n",
       "2024-05   27019.00\n",
       "2024-06   23233.95\n",
       "2024-07   18719.39\n",
       "2024-08   23298.24\n",
       "2024-09   32859.73\n",
       "2024-10   18942.74\n",
       "2024-11   13153.44\n",
       "2024-12   15079.90\n",
       "Freq: M, Name: revenue, dtype: float64"
      ]
     },
     "metadata": {},
     "output_type": "display_data"
    }
   ],
   "source": [
    "# Task 4: Revenue by month\n",
    "sales['order_date'] = pd.to_datetime(sales['order_date'])\n",
    "sales['year_month'] = sales['order_date'].dt.to_period('M')\n",
    "\n",
    "monthly_revenue = sales.groupby('year_month')['revenue'].sum().round(2)\n",
    "\n",
    "print(\"Task 4 - Revenue by Month:\")\n",
    "display(monthly_revenue.head(12))"
   ]
  },
  {
   "cell_type": "code",
   "execution_count": 33,
   "metadata": {},
   "outputs": [
    {
     "name": "stdout",
     "output_type": "stream",
     "text": [
      "Task 5 - Top 3 Products by Units in Each Region:\n"
     ]
    },
    {
     "data": {
      "text/html": [
       "<div>\n",
       "<style scoped>\n",
       "    .dataframe tbody tr th:only-of-type {\n",
       "        vertical-align: middle;\n",
       "    }\n",
       "\n",
       "    .dataframe tbody tr th {\n",
       "        vertical-align: top;\n",
       "    }\n",
       "\n",
       "    .dataframe thead th {\n",
       "        text-align: right;\n",
       "    }\n",
       "</style>\n",
       "<table border=\"1\" class=\"dataframe\">\n",
       "  <thead>\n",
       "    <tr style=\"text-align: right;\">\n",
       "      <th></th>\n",
       "      <th>region_code</th>\n",
       "      <th>product_id</th>\n",
       "      <th>units</th>\n",
       "    </tr>\n",
       "  </thead>\n",
       "  <tbody>\n",
       "    <tr>\n",
       "      <th>2</th>\n",
       "      <td>AMER</td>\n",
       "      <td>P-BSC</td>\n",
       "      <td>498</td>\n",
       "    </tr>\n",
       "    <tr>\n",
       "      <th>5</th>\n",
       "      <td>AMER</td>\n",
       "      <td>P-PLS</td>\n",
       "      <td>339</td>\n",
       "    </tr>\n",
       "    <tr>\n",
       "      <th>0</th>\n",
       "      <td>AMER</td>\n",
       "      <td>P-ADD</td>\n",
       "      <td>240</td>\n",
       "    </tr>\n",
       "    <tr>\n",
       "      <th>9</th>\n",
       "      <td>APAC</td>\n",
       "      <td>P-BSC</td>\n",
       "      <td>367</td>\n",
       "    </tr>\n",
       "    <tr>\n",
       "      <th>12</th>\n",
       "      <td>APAC</td>\n",
       "      <td>P-PLS</td>\n",
       "      <td>258</td>\n",
       "    </tr>\n",
       "    <tr>\n",
       "      <th>7</th>\n",
       "      <td>APAC</td>\n",
       "      <td>P-ADD</td>\n",
       "      <td>195</td>\n",
       "    </tr>\n",
       "    <tr>\n",
       "      <th>15</th>\n",
       "      <td>EMEA</td>\n",
       "      <td>P-ADD</td>\n",
       "      <td>461</td>\n",
       "    </tr>\n",
       "    <tr>\n",
       "      <th>17</th>\n",
       "      <td>EMEA</td>\n",
       "      <td>P-BSC</td>\n",
       "      <td>286</td>\n",
       "    </tr>\n",
       "    <tr>\n",
       "      <th>20</th>\n",
       "      <td>EMEA</td>\n",
       "      <td>P-PLS</td>\n",
       "      <td>227</td>\n",
       "    </tr>\n",
       "    <tr>\n",
       "      <th>24</th>\n",
       "      <td>LATAM</td>\n",
       "      <td>P-BSC</td>\n",
       "      <td>43</td>\n",
       "    </tr>\n",
       "    <tr>\n",
       "      <th>28</th>\n",
       "      <td>LATAM</td>\n",
       "      <td>P-TRI</td>\n",
       "      <td>39</td>\n",
       "    </tr>\n",
       "    <tr>\n",
       "      <th>26</th>\n",
       "      <td>LATAM</td>\n",
       "      <td>P-PLS</td>\n",
       "      <td>16</td>\n",
       "    </tr>\n",
       "    <tr>\n",
       "      <th>31</th>\n",
       "      <td>NORD</td>\n",
       "      <td>P-BSC</td>\n",
       "      <td>113</td>\n",
       "    </tr>\n",
       "    <tr>\n",
       "      <th>34</th>\n",
       "      <td>NORD</td>\n",
       "      <td>P-PRO</td>\n",
       "      <td>44</td>\n",
       "    </tr>\n",
       "    <tr>\n",
       "      <th>33</th>\n",
       "      <td>NORD</td>\n",
       "      <td>P-PLS</td>\n",
       "      <td>39</td>\n",
       "    </tr>\n",
       "  </tbody>\n",
       "</table>\n",
       "</div>"
      ],
      "text/plain": [
       "   region_code product_id  units\n",
       "2         AMER      P-BSC    498\n",
       "5         AMER      P-PLS    339\n",
       "0         AMER      P-ADD    240\n",
       "9         APAC      P-BSC    367\n",
       "12        APAC      P-PLS    258\n",
       "7         APAC      P-ADD    195\n",
       "15        EMEA      P-ADD    461\n",
       "17        EMEA      P-BSC    286\n",
       "20        EMEA      P-PLS    227\n",
       "24       LATAM      P-BSC     43\n",
       "28       LATAM      P-TRI     39\n",
       "26       LATAM      P-PLS     16\n",
       "31        NORD      P-BSC    113\n",
       "34        NORD      P-PRO     44\n",
       "33        NORD      P-PLS     39"
      ]
     },
     "metadata": {},
     "output_type": "display_data"
    }
   ],
   "source": [
    "# Task 5: Top 3 products by units in each region\n",
    "top_products = (\n",
    "    sales.groupby(['region_code', 'product_id'])['units']\n",
    "    .sum()\n",
    "    .reset_index()\n",
    "    .sort_values(['region_code', 'units'], ascending=[True, False])\n",
    "    .groupby('region_code')\n",
    "    .head(3)\n",
    ")\n",
    "\n",
    "print(\"Task 5 - Top 3 Products by Units in Each Region:\")\n",
    "display(top_products)"
   ]
  },
  {
   "cell_type": "markdown",
   "metadata": {},
   "source": [
    "---\n",
    "# Exercise 3: Date Parsing & Time-Based Analysis\n",
    "\n",
    "**Goal:** Work with date columns and extract time components"
   ]
  },
  {
   "cell_type": "code",
   "execution_count": 34,
   "metadata": {},
   "outputs": [
    {
     "name": "stdout",
     "output_type": "stream",
     "text": [
      "Task 1 - Date column type: datetime64[ns]\n",
      "\n",
      "Task 2 - Date components extracted:\n"
     ]
    },
    {
     "data": {
      "text/html": [
       "<div>\n",
       "<style scoped>\n",
       "    .dataframe tbody tr th:only-of-type {\n",
       "        vertical-align: middle;\n",
       "    }\n",
       "\n",
       "    .dataframe tbody tr th {\n",
       "        vertical-align: top;\n",
       "    }\n",
       "\n",
       "    .dataframe thead th {\n",
       "        text-align: right;\n",
       "    }\n",
       "</style>\n",
       "<table border=\"1\" class=\"dataframe\">\n",
       "  <thead>\n",
       "    <tr style=\"text-align: right;\">\n",
       "      <th></th>\n",
       "      <th>order_date</th>\n",
       "      <th>year</th>\n",
       "      <th>month</th>\n",
       "      <th>quarter</th>\n",
       "      <th>weekday</th>\n",
       "    </tr>\n",
       "  </thead>\n",
       "  <tbody>\n",
       "    <tr>\n",
       "      <th>0</th>\n",
       "      <td>2024-09-06</td>\n",
       "      <td>2024</td>\n",
       "      <td>9</td>\n",
       "      <td>3</td>\n",
       "      <td>Friday</td>\n",
       "    </tr>\n",
       "    <tr>\n",
       "      <th>1</th>\n",
       "      <td>2024-09-02</td>\n",
       "      <td>2024</td>\n",
       "      <td>9</td>\n",
       "      <td>3</td>\n",
       "      <td>Monday</td>\n",
       "    </tr>\n",
       "    <tr>\n",
       "      <th>2</th>\n",
       "      <td>2024-06-25</td>\n",
       "      <td>2024</td>\n",
       "      <td>6</td>\n",
       "      <td>2</td>\n",
       "      <td>Tuesday</td>\n",
       "    </tr>\n",
       "    <tr>\n",
       "      <th>3</th>\n",
       "      <td>2025-02-20</td>\n",
       "      <td>2025</td>\n",
       "      <td>2</td>\n",
       "      <td>1</td>\n",
       "      <td>Thursday</td>\n",
       "    </tr>\n",
       "    <tr>\n",
       "      <th>4</th>\n",
       "      <td>2025-08-04</td>\n",
       "      <td>2025</td>\n",
       "      <td>8</td>\n",
       "      <td>3</td>\n",
       "      <td>Monday</td>\n",
       "    </tr>\n",
       "  </tbody>\n",
       "</table>\n",
       "</div>"
      ],
      "text/plain": [
       "  order_date  year  month  quarter   weekday\n",
       "0 2024-09-06  2024      9        3    Friday\n",
       "1 2024-09-02  2024      9        3    Monday\n",
       "2 2024-06-25  2024      6        2   Tuesday\n",
       "3 2025-02-20  2025      2        1  Thursday\n",
       "4 2025-08-04  2025      8        3    Monday"
      ]
     },
     "metadata": {},
     "output_type": "display_data"
    }
   ],
   "source": [
    "# Task 1: Parse dates (already done above)\n",
    "print(f\"Task 1 - Date column type: {sales['order_date'].dtype}\")\n",
    "\n",
    "# Task 2: Extract date components\n",
    "sales['year'] = sales['order_date'].dt.year\n",
    "sales['month'] = sales['order_date'].dt.month\n",
    "sales['quarter'] = sales['order_date'].dt.quarter\n",
    "sales['weekday'] = sales['order_date'].dt.day_name()\n",
    "\n",
    "print(\"\\nTask 2 - Date components extracted:\")\n",
    "display(sales[['order_date', 'year', 'month', 'quarter', 'weekday']].head())"
   ]
  },
  {
   "cell_type": "code",
   "execution_count": 35,
   "metadata": {},
   "outputs": [
    {
     "name": "stdout",
     "output_type": "stream",
     "text": [
      "Task 3 - Fiscal quarters (FY starts in April):\n"
     ]
    },
    {
     "data": {
      "text/html": [
       "<div>\n",
       "<style scoped>\n",
       "    .dataframe tbody tr th:only-of-type {\n",
       "        vertical-align: middle;\n",
       "    }\n",
       "\n",
       "    .dataframe tbody tr th {\n",
       "        vertical-align: top;\n",
       "    }\n",
       "\n",
       "    .dataframe thead th {\n",
       "        text-align: right;\n",
       "    }\n",
       "</style>\n",
       "<table border=\"1\" class=\"dataframe\">\n",
       "  <thead>\n",
       "    <tr style=\"text-align: right;\">\n",
       "      <th></th>\n",
       "      <th>order_date</th>\n",
       "      <th>quarter</th>\n",
       "      <th>fiscal_quarter</th>\n",
       "    </tr>\n",
       "  </thead>\n",
       "  <tbody>\n",
       "    <tr>\n",
       "      <th>0</th>\n",
       "      <td>2024-09-06</td>\n",
       "      <td>3</td>\n",
       "      <td>2</td>\n",
       "    </tr>\n",
       "    <tr>\n",
       "      <th>1</th>\n",
       "      <td>2024-09-02</td>\n",
       "      <td>3</td>\n",
       "      <td>2</td>\n",
       "    </tr>\n",
       "    <tr>\n",
       "      <th>2</th>\n",
       "      <td>2024-06-25</td>\n",
       "      <td>2</td>\n",
       "      <td>1</td>\n",
       "    </tr>\n",
       "    <tr>\n",
       "      <th>3</th>\n",
       "      <td>2025-02-20</td>\n",
       "      <td>1</td>\n",
       "      <td>4</td>\n",
       "    </tr>\n",
       "    <tr>\n",
       "      <th>4</th>\n",
       "      <td>2025-08-04</td>\n",
       "      <td>3</td>\n",
       "      <td>2</td>\n",
       "    </tr>\n",
       "    <tr>\n",
       "      <th>5</th>\n",
       "      <td>2024-06-17</td>\n",
       "      <td>2</td>\n",
       "      <td>1</td>\n",
       "    </tr>\n",
       "    <tr>\n",
       "      <th>6</th>\n",
       "      <td>2024-07-09</td>\n",
       "      <td>3</td>\n",
       "      <td>2</td>\n",
       "    </tr>\n",
       "    <tr>\n",
       "      <th>7</th>\n",
       "      <td>2024-11-07</td>\n",
       "      <td>4</td>\n",
       "      <td>3</td>\n",
       "    </tr>\n",
       "    <tr>\n",
       "      <th>8</th>\n",
       "      <td>2024-05-04</td>\n",
       "      <td>2</td>\n",
       "      <td>1</td>\n",
       "    </tr>\n",
       "    <tr>\n",
       "      <th>9</th>\n",
       "      <td>2024-12-08</td>\n",
       "      <td>4</td>\n",
       "      <td>3</td>\n",
       "    </tr>\n",
       "  </tbody>\n",
       "</table>\n",
       "</div>"
      ],
      "text/plain": [
       "  order_date  quarter  fiscal_quarter\n",
       "0 2024-09-06        3               2\n",
       "1 2024-09-02        3               2\n",
       "2 2024-06-25        2               1\n",
       "3 2025-02-20        1               4\n",
       "4 2025-08-04        3               2\n",
       "5 2024-06-17        2               1\n",
       "6 2024-07-09        3               2\n",
       "7 2024-11-07        4               3\n",
       "8 2024-05-04        2               1\n",
       "9 2024-12-08        4               3"
      ]
     },
     "metadata": {},
     "output_type": "display_data"
    }
   ],
   "source": [
    "# Task 3: Fiscal quarter (FY starts April 1)\n",
    "sales['fiscal_quarter'] = ((sales['order_date'].dt.month - 4) % 12 // 3) + 1\n",
    "\n",
    "print(\"Task 3 - Fiscal quarters (FY starts in April):\")\n",
    "display(sales[['order_date', 'quarter', 'fiscal_quarter']].head(10))"
   ]
  },
  {
   "cell_type": "code",
   "execution_count": 36,
   "metadata": {},
   "outputs": [
    {
     "name": "stdout",
     "output_type": "stream",
     "text": [
      "Task 4 - Most recent orders:\n"
     ]
    },
    {
     "data": {
      "text/html": [
       "<div>\n",
       "<style scoped>\n",
       "    .dataframe tbody tr th:only-of-type {\n",
       "        vertical-align: middle;\n",
       "    }\n",
       "\n",
       "    .dataframe tbody tr th {\n",
       "        vertical-align: top;\n",
       "    }\n",
       "\n",
       "    .dataframe thead th {\n",
       "        text-align: right;\n",
       "    }\n",
       "</style>\n",
       "<table border=\"1\" class=\"dataframe\">\n",
       "  <thead>\n",
       "    <tr style=\"text-align: right;\">\n",
       "      <th></th>\n",
       "      <th>order_date</th>\n",
       "      <th>days_since</th>\n",
       "    </tr>\n",
       "  </thead>\n",
       "  <tbody>\n",
       "    <tr>\n",
       "      <th>135</th>\n",
       "      <td>2025-10-08</td>\n",
       "      <td>14</td>\n",
       "    </tr>\n",
       "    <tr>\n",
       "      <th>114</th>\n",
       "      <td>2025-10-03</td>\n",
       "      <td>19</td>\n",
       "    </tr>\n",
       "    <tr>\n",
       "      <th>174</th>\n",
       "      <td>2025-09-27</td>\n",
       "      <td>25</td>\n",
       "    </tr>\n",
       "    <tr>\n",
       "      <th>26</th>\n",
       "      <td>2025-09-25</td>\n",
       "      <td>27</td>\n",
       "    </tr>\n",
       "    <tr>\n",
       "      <th>15</th>\n",
       "      <td>2025-09-20</td>\n",
       "      <td>32</td>\n",
       "    </tr>\n",
       "  </tbody>\n",
       "</table>\n",
       "</div>"
      ],
      "text/plain": [
       "    order_date  days_since\n",
       "135 2025-10-08          14\n",
       "114 2025-10-03          19\n",
       "174 2025-09-27          25\n",
       "26  2025-09-25          27\n",
       "15  2025-09-20          32"
      ]
     },
     "metadata": {},
     "output_type": "display_data"
    }
   ],
   "source": [
    "# Task 4: Days since order\n",
    "reference_date = pd.Timestamp('2025-10-22')\n",
    "sales['days_since'] = (reference_date - sales['order_date']).dt.days\n",
    "\n",
    "print(\"Task 4 - Most recent orders:\")\n",
    "display(sales.sort_values('order_date', ascending=False)[['order_date', 'days_since']].head())"
   ]
  },
  {
   "cell_type": "code",
   "execution_count": 37,
   "metadata": {},
   "outputs": [
    {
     "name": "stdout",
     "output_type": "stream",
     "text": [
      "Task 5 - Revenue by Calendar Quarter:\n"
     ]
    },
    {
     "data": {
      "text/plain": [
       "quarter\n",
       "1   112003.03\n",
       "2   161679.46\n",
       "3   137293.17\n",
       "4    49752.20\n",
       "Name: revenue, dtype: float64"
      ]
     },
     "metadata": {},
     "output_type": "display_data"
    }
   ],
   "source": [
    "# Task 5: Revenue by quarter\n",
    "quarterly = sales.groupby('quarter')['revenue'].sum().round(2)\n",
    "\n",
    "print(\"Task 5 - Revenue by Calendar Quarter:\")\n",
    "display(quarterly)"
   ]
  },
  {
   "cell_type": "markdown",
   "metadata": {},
   "source": [
    "---\n",
    "# Exercise 4: Inner Join of Products with Sales\n",
    "\n",
    "**Goal:** Understand inner joins and identify matched records"
   ]
  },
  {
   "cell_type": "code",
   "execution_count": 38,
   "metadata": {},
   "outputs": [
    {
     "name": "stdout",
     "output_type": "stream",
     "text": [
      "Task 1 - Inner join: 242 rows (from 260 sales)\n",
      "Task 2 - Rows lost: 18\n",
      "Task 2 - Rows retained: 242\n"
     ]
    }
   ],
   "source": [
    "# Task 1 & 2: Inner join and count results\n",
    "merged_inner = sales.merge(products, on='product_id', how='inner')\n",
    "\n",
    "print(f\"Task 1 - Inner join: {len(merged_inner)} rows (from {len(sales)} sales)\")\n",
    "print(f\"Task 2 - Rows lost: {len(sales) - len(merged_inner)}\")\n",
    "print(f\"Task 2 - Rows retained: {len(merged_inner)}\")"
   ]
  },
  {
   "cell_type": "code",
   "execution_count": 39,
   "metadata": {},
   "outputs": [
    {
     "name": "stdout",
     "output_type": "stream",
     "text": [
      "Task 3 - Products in sales but NOT in master: {'P-OEM', 'P-TRI'}\n",
      "\n",
      "Revenue from these orphan products:\n",
      "product_id\n",
      "P-OEM   3247.21\n",
      "P-TRI   2981.93\n",
      "Name: revenue, dtype: float64\n"
     ]
    }
   ],
   "source": [
    "# Task 3: Find unmatched products\n",
    "unmatched = set(sales['product_id']) - set(products['product_id'])\n",
    "\n",
    "print(f\"Task 3 - Products in sales but NOT in master: {unmatched}\")\n",
    "print(\"\\nRevenue from these orphan products:\")\n",
    "orphan_sales = sales[sales['product_id'].isin(unmatched)]\n",
    "print(orphan_sales[['product_id', 'revenue']].groupby('product_id')['revenue'].sum())"
   ]
  },
  {
   "cell_type": "code",
   "execution_count": 40,
   "metadata": {},
   "outputs": [
    {
     "name": "stdout",
     "output_type": "stream",
     "text": [
      "Task 4 - Sales with Product Name and Category:\n"
     ]
    },
    {
     "data": {
      "text/html": [
       "<div>\n",
       "<style scoped>\n",
       "    .dataframe tbody tr th:only-of-type {\n",
       "        vertical-align: middle;\n",
       "    }\n",
       "\n",
       "    .dataframe tbody tr th {\n",
       "        vertical-align: top;\n",
       "    }\n",
       "\n",
       "    .dataframe thead th {\n",
       "        text-align: right;\n",
       "    }\n",
       "</style>\n",
       "<table border=\"1\" class=\"dataframe\">\n",
       "  <thead>\n",
       "    <tr style=\"text-align: right;\">\n",
       "      <th></th>\n",
       "      <th>order_id</th>\n",
       "      <th>product_id</th>\n",
       "      <th>product</th>\n",
       "      <th>category</th>\n",
       "      <th>revenue</th>\n",
       "    </tr>\n",
       "  </thead>\n",
       "  <tbody>\n",
       "    <tr>\n",
       "      <th>0</th>\n",
       "      <td>SO-10000</td>\n",
       "      <td>P-ENT</td>\n",
       "      <td>Enterprise</td>\n",
       "      <td>Suite</td>\n",
       "      <td>3082.59</td>\n",
       "    </tr>\n",
       "    <tr>\n",
       "      <th>1</th>\n",
       "      <td>SO-10001</td>\n",
       "      <td>P-ADD</td>\n",
       "      <td>Add-on</td>\n",
       "      <td>Addon</td>\n",
       "      <td>556.34</td>\n",
       "    </tr>\n",
       "    <tr>\n",
       "      <th>2</th>\n",
       "      <td>SO-10002</td>\n",
       "      <td>P-ANL</td>\n",
       "      <td>Analytics</td>\n",
       "      <td>Addon</td>\n",
       "      <td>2422.68</td>\n",
       "    </tr>\n",
       "    <tr>\n",
       "      <th>3</th>\n",
       "      <td>SO-10003</td>\n",
       "      <td>P-PLS</td>\n",
       "      <td>Plus</td>\n",
       "      <td>Core</td>\n",
       "      <td>4155.00</td>\n",
       "    </tr>\n",
       "    <tr>\n",
       "      <th>4</th>\n",
       "      <td>SO-10004</td>\n",
       "      <td>P-PLS</td>\n",
       "      <td>Plus</td>\n",
       "      <td>Core</td>\n",
       "      <td>2486.50</td>\n",
       "    </tr>\n",
       "  </tbody>\n",
       "</table>\n",
       "</div>"
      ],
      "text/plain": [
       "   order_id product_id     product category  revenue\n",
       "0  SO-10000      P-ENT  Enterprise    Suite  3082.59\n",
       "1  SO-10001      P-ADD      Add-on    Addon   556.34\n",
       "2  SO-10002      P-ANL   Analytics    Addon  2422.68\n",
       "3  SO-10003      P-PLS        Plus     Core  4155.00\n",
       "4  SO-10004      P-PLS        Plus     Core  2486.50"
      ]
     },
     "metadata": {},
     "output_type": "display_data"
    }
   ],
   "source": [
    "# Task 4: Show sales with product details\n",
    "print(\"Task 4 - Sales with Product Name and Category:\")\n",
    "display(merged_inner[['order_id', 'product_id', 'product', 'category', 'revenue']].head())"
   ]
  },
  {
   "cell_type": "code",
   "execution_count": 41,
   "metadata": {},
   "outputs": [
    {
     "name": "stdout",
     "output_type": "stream",
     "text": [
      "Task 5 - Discount Analysis:\n",
      "Average discount: -0.12%\n",
      "Max discount: 16.68%\n",
      "Min discount: -16.98%\n",
      "Orders with actual discount (>0%): 114\n"
     ]
    }
   ],
   "source": [
    "# Task 5: Calculate discounts\n",
    "merged_inner['discount_pct'] = (\n",
    "    (merged_inner['list_price'] - merged_inner['unit_price']) \n",
    "    / merged_inner['list_price'] * 100\n",
    ")\n",
    "\n",
    "print(\"Task 5 - Discount Analysis:\")\n",
    "print(f\"Average discount: {merged_inner['discount_pct'].mean():.2f}%\")\n",
    "print(f\"Max discount: {merged_inner['discount_pct'].max():.2f}%\")\n",
    "print(f\"Min discount: {merged_inner['discount_pct'].min():.2f}%\")\n",
    "print(f\"Orders with actual discount (>0%): {(merged_inner['discount_pct'] > 0).sum()}\")"
   ]
  },
  {
   "cell_type": "markdown",
   "metadata": {},
   "source": [
    "---\n",
    "# Exercise 5: Left Join - Keeping All Sales\n",
    "\n",
    "**Goal:** Preserve all sales records even if products are unknown"
   ]
  },
  {
   "cell_type": "code",
   "execution_count": 42,
   "metadata": {},
   "outputs": [
    {
     "name": "stdout",
     "output_type": "stream",
     "text": [
      "Task 1 - Left join: 260 rows (all 260 sales retained)\n",
      "No data lost!\n"
     ]
    }
   ],
   "source": [
    "# Task 1: Left join keeps all sales\n",
    "merged_left = sales.merge(products, on='product_id', how='left')\n",
    "\n",
    "print(f\"Task 1 - Left join: {len(merged_left)} rows (all {len(sales)} sales retained)\")\n",
    "print(f\"No data lost!\")"
   ]
  },
  {
   "cell_type": "code",
   "execution_count": 43,
   "metadata": {},
   "outputs": [
    {
     "name": "stdout",
     "output_type": "stream",
     "text": [
      "Task 2 - Orphan sales (unknown products): 18 records\n",
      "\n",
      "Orphan product IDs and counts:\n"
     ]
    },
    {
     "data": {
      "text/plain": [
       "product_id\n",
       "P-OEM    9\n",
       "P-TRI    9\n",
       "Name: count, dtype: int64"
      ]
     },
     "metadata": {},
     "output_type": "display_data"
    }
   ],
   "source": [
    "# Task 2: Identify orphan sales\n",
    "orphans = merged_left[merged_left['product'].isna()]\n",
    "\n",
    "print(f\"Task 2 - Orphan sales (unknown products): {len(orphans)} records\")\n",
    "print(\"\\nOrphan product IDs and counts:\")\n",
    "display(orphans['product_id'].value_counts())"
   ]
  },
  {
   "cell_type": "code",
   "execution_count": 44,
   "metadata": {},
   "outputs": [
    {
     "name": "stdout",
     "output_type": "stream",
     "text": [
      "Task 3 - Revenue from unknown products: $6,229.14\n",
      "Total revenue: $460,727.86\n",
      "Percentage of total: 1.35%\n"
     ]
    }
   ],
   "source": [
    "# Task 3: Revenue from unknown products\n",
    "orphan_revenue = orphans['revenue'].sum()\n",
    "total_revenue = sales['revenue'].sum()\n",
    "\n",
    "print(f\"Task 3 - Revenue from unknown products: ${orphan_revenue:,.2f}\")\n",
    "print(f\"Total revenue: ${total_revenue:,.2f}\")\n",
    "print(f\"Percentage of total: {orphan_revenue/total_revenue*100:.2f}%\")"
   ]
  },
  {
   "cell_type": "code",
   "execution_count": 45,
   "metadata": {},
   "outputs": [
    {
     "name": "stdout",
     "output_type": "stream",
     "text": [
      "Task 4 - Missing values filled:\n"
     ]
    },
    {
     "data": {
      "text/html": [
       "<div>\n",
       "<style scoped>\n",
       "    .dataframe tbody tr th:only-of-type {\n",
       "        vertical-align: middle;\n",
       "    }\n",
       "\n",
       "    .dataframe tbody tr th {\n",
       "        vertical-align: top;\n",
       "    }\n",
       "\n",
       "    .dataframe thead th {\n",
       "        text-align: right;\n",
       "    }\n",
       "</style>\n",
       "<table border=\"1\" class=\"dataframe\">\n",
       "  <thead>\n",
       "    <tr style=\"text-align: right;\">\n",
       "      <th></th>\n",
       "      <th>order_id</th>\n",
       "      <th>product_id</th>\n",
       "      <th>product</th>\n",
       "      <th>category</th>\n",
       "      <th>revenue</th>\n",
       "    </tr>\n",
       "  </thead>\n",
       "  <tbody>\n",
       "    <tr>\n",
       "      <th>16</th>\n",
       "      <td>SO-10016</td>\n",
       "      <td>P-OEM</td>\n",
       "      <td>Unknown Product</td>\n",
       "      <td>Unknown</td>\n",
       "      <td>555.74</td>\n",
       "    </tr>\n",
       "    <tr>\n",
       "      <th>19</th>\n",
       "      <td>SO-10019</td>\n",
       "      <td>P-OEM</td>\n",
       "      <td>Unknown Product</td>\n",
       "      <td>Unknown</td>\n",
       "      <td>363.94</td>\n",
       "    </tr>\n",
       "    <tr>\n",
       "      <th>58</th>\n",
       "      <td>SO-10058</td>\n",
       "      <td>P-OEM</td>\n",
       "      <td>Unknown Product</td>\n",
       "      <td>Unknown</td>\n",
       "      <td>206.22</td>\n",
       "    </tr>\n",
       "    <tr>\n",
       "      <th>68</th>\n",
       "      <td>SO-10068</td>\n",
       "      <td>P-OEM</td>\n",
       "      <td>Unknown Product</td>\n",
       "      <td>Unknown</td>\n",
       "      <td>353.62</td>\n",
       "    </tr>\n",
       "    <tr>\n",
       "      <th>76</th>\n",
       "      <td>SO-10076</td>\n",
       "      <td>P-TRI</td>\n",
       "      <td>Unknown Product</td>\n",
       "      <td>Unknown</td>\n",
       "      <td>405.00</td>\n",
       "    </tr>\n",
       "  </tbody>\n",
       "</table>\n",
       "</div>"
      ],
      "text/plain": [
       "    order_id product_id          product category  revenue\n",
       "16  SO-10016      P-OEM  Unknown Product  Unknown   555.74\n",
       "19  SO-10019      P-OEM  Unknown Product  Unknown   363.94\n",
       "58  SO-10058      P-OEM  Unknown Product  Unknown   206.22\n",
       "68  SO-10068      P-OEM  Unknown Product  Unknown   353.62\n",
       "76  SO-10076      P-TRI  Unknown Product  Unknown   405.00"
      ]
     },
     "metadata": {},
     "output_type": "display_data"
    }
   ],
   "source": [
    "# Task 4: Fill missing product names\n",
    "merged_left['product'] = merged_left['product'].fillna('Unknown Product')\n",
    "merged_left['category'] = merged_left['category'].fillna('Unknown')\n",
    "\n",
    "print(\"Task 4 - Missing values filled:\")\n",
    "display(merged_left[merged_left['product'] == 'Unknown Product'][[\n",
    "    'order_id', 'product_id', 'product', 'category', 'revenue'\n",
    "]].head())"
   ]
  },
  {
   "cell_type": "code",
   "execution_count": 46,
   "metadata": {},
   "outputs": [
    {
     "name": "stdout",
     "output_type": "stream",
     "text": [
      "Task 5 - Orphan flag created:\n",
      "Orphan records: 18\n",
      "Complete records: 242\n"
     ]
    }
   ],
   "source": [
    "# Task 5: Create orphan flag\n",
    "merged_left['is_orphan'] = merged_left['list_price'].isna()\n",
    "\n",
    "print(f\"Task 5 - Orphan flag created:\")\n",
    "print(f\"Orphan records: {merged_left['is_orphan'].sum()}\")\n",
    "print(f\"Complete records: {(~merged_left['is_orphan']).sum()}\")"
   ]
  },
  {
   "cell_type": "markdown",
   "metadata": {},
   "source": [
    "---\n",
    "# Exercise 6: Right Join - Finding Unsold Products\n",
    "\n",
    "**Goal:** Identify products with no sales history"
   ]
  },
  {
   "cell_type": "code",
   "execution_count": 47,
   "metadata": {},
   "outputs": [
    {
     "name": "stdout",
     "output_type": "stream",
     "text": [
      "Task 1 - Right join: 244 rows (all 8 products included)\n"
     ]
    }
   ],
   "source": [
    "# Task 1: Right join keeps all products\n",
    "merged_right = sales.merge(products, on='product_id', how='right')\n",
    "\n",
    "print(f\"Task 1 - Right join: {len(merged_right)} rows (all {len(products)} products included)\")"
   ]
  },
  {
   "cell_type": "code",
   "execution_count": 48,
   "metadata": {},
   "outputs": [
    {
     "name": "stdout",
     "output_type": "stream",
     "text": [
      "Task 2 - Products with NO sales: 2\n",
      "\n",
      "Unsold products:\n"
     ]
    },
    {
     "data": {
      "text/html": [
       "<div>\n",
       "<style scoped>\n",
       "    .dataframe tbody tr th:only-of-type {\n",
       "        vertical-align: middle;\n",
       "    }\n",
       "\n",
       "    .dataframe tbody tr th {\n",
       "        vertical-align: top;\n",
       "    }\n",
       "\n",
       "    .dataframe thead th {\n",
       "        text-align: right;\n",
       "    }\n",
       "</style>\n",
       "<table border=\"1\" class=\"dataframe\">\n",
       "  <thead>\n",
       "    <tr style=\"text-align: right;\">\n",
       "      <th></th>\n",
       "      <th>product_id</th>\n",
       "      <th>product</th>\n",
       "      <th>category</th>\n",
       "      <th>status</th>\n",
       "      <th>list_price</th>\n",
       "    </tr>\n",
       "  </thead>\n",
       "  <tbody>\n",
       "    <tr>\n",
       "      <th>242</th>\n",
       "      <td>P-LGC</td>\n",
       "      <td>Legacy</td>\n",
       "      <td>Legacy</td>\n",
       "      <td>Discontinued</td>\n",
       "      <td>79.00</td>\n",
       "    </tr>\n",
       "    <tr>\n",
       "      <th>243</th>\n",
       "      <td>P-BTA</td>\n",
       "      <td>Beta</td>\n",
       "      <td>Beta</td>\n",
       "      <td>Preview</td>\n",
       "      <td>59.00</td>\n",
       "    </tr>\n",
       "  </tbody>\n",
       "</table>\n",
       "</div>"
      ],
      "text/plain": [
       "    product_id product category        status  list_price\n",
       "242      P-LGC  Legacy   Legacy  Discontinued       79.00\n",
       "243      P-BTA    Beta     Beta       Preview       59.00"
      ]
     },
     "metadata": {},
     "output_type": "display_data"
    }
   ],
   "source": [
    "# Task 2: Products with no sales\n",
    "no_sales = merged_right[merged_right['order_id'].isna()]\n",
    "\n",
    "print(f\"Task 2 - Products with NO sales: {len(no_sales)}\")\n",
    "print(\"\\nUnsold products:\")\n",
    "display(no_sales[['product_id', 'product', 'category', 'status', 'list_price']])"
   ]
  },
  {
   "cell_type": "code",
   "execution_count": 49,
   "metadata": {},
   "outputs": [
    {
     "name": "stdout",
     "output_type": "stream",
     "text": [
      "Task 3 - Potential revenue from unsold products: $138.00\n"
     ]
    }
   ],
   "source": [
    "# Task 3: Potential revenue\n",
    "potential = no_sales['list_price'].sum()\n",
    "\n",
    "print(f\"Task 3 - Potential revenue from unsold products: ${potential:,.2f}\")"
   ]
  },
  {
   "cell_type": "code",
   "execution_count": 50,
   "metadata": {},
   "outputs": [
    {
     "name": "stdout",
     "output_type": "stream",
     "text": [
      "Task 4 - Sales Count by Product Status:\n"
     ]
    },
    {
     "data": {
      "text/html": [
       "<div>\n",
       "<style scoped>\n",
       "    .dataframe tbody tr th:only-of-type {\n",
       "        vertical-align: middle;\n",
       "    }\n",
       "\n",
       "    .dataframe tbody tr th {\n",
       "        vertical-align: top;\n",
       "    }\n",
       "\n",
       "    .dataframe thead th {\n",
       "        text-align: right;\n",
       "    }\n",
       "</style>\n",
       "<table border=\"1\" class=\"dataframe\">\n",
       "  <thead>\n",
       "    <tr style=\"text-align: right;\">\n",
       "      <th></th>\n",
       "      <th>product</th>\n",
       "      <th>status</th>\n",
       "      <th>sales_count</th>\n",
       "    </tr>\n",
       "  </thead>\n",
       "  <tbody>\n",
       "    <tr>\n",
       "      <th>0</th>\n",
       "      <td>Basic</td>\n",
       "      <td>Active</td>\n",
       "      <td>52.00</td>\n",
       "    </tr>\n",
       "    <tr>\n",
       "      <th>1</th>\n",
       "      <td>Plus</td>\n",
       "      <td>Active</td>\n",
       "      <td>48.00</td>\n",
       "    </tr>\n",
       "    <tr>\n",
       "      <th>2</th>\n",
       "      <td>Pro</td>\n",
       "      <td>Active</td>\n",
       "      <td>38.00</td>\n",
       "    </tr>\n",
       "    <tr>\n",
       "      <th>3</th>\n",
       "      <td>Enterprise</td>\n",
       "      <td>Active</td>\n",
       "      <td>42.00</td>\n",
       "    </tr>\n",
       "    <tr>\n",
       "      <th>4</th>\n",
       "      <td>Analytics</td>\n",
       "      <td>Active</td>\n",
       "      <td>33.00</td>\n",
       "    </tr>\n",
       "    <tr>\n",
       "      <th>5</th>\n",
       "      <td>Add-on</td>\n",
       "      <td>Active</td>\n",
       "      <td>29.00</td>\n",
       "    </tr>\n",
       "    <tr>\n",
       "      <th>6</th>\n",
       "      <td>Legacy</td>\n",
       "      <td>Discontinued</td>\n",
       "      <td>0.00</td>\n",
       "    </tr>\n",
       "    <tr>\n",
       "      <th>7</th>\n",
       "      <td>Beta</td>\n",
       "      <td>Preview</td>\n",
       "      <td>0.00</td>\n",
       "    </tr>\n",
       "  </tbody>\n",
       "</table>\n",
       "</div>"
      ],
      "text/plain": [
       "      product        status  sales_count\n",
       "0       Basic        Active        52.00\n",
       "1        Plus        Active        48.00\n",
       "2         Pro        Active        38.00\n",
       "3  Enterprise        Active        42.00\n",
       "4   Analytics        Active        33.00\n",
       "5      Add-on        Active        29.00\n",
       "6      Legacy  Discontinued         0.00\n",
       "7        Beta       Preview         0.00"
      ]
     },
     "metadata": {},
     "output_type": "display_data"
    },
    {
     "name": "stdout",
     "output_type": "stream",
     "text": [
      "\n",
      "Products with zero sales:\n"
     ]
    },
    {
     "data": {
      "text/html": [
       "<div>\n",
       "<style scoped>\n",
       "    .dataframe tbody tr th:only-of-type {\n",
       "        vertical-align: middle;\n",
       "    }\n",
       "\n",
       "    .dataframe tbody tr th {\n",
       "        vertical-align: top;\n",
       "    }\n",
       "\n",
       "    .dataframe thead th {\n",
       "        text-align: right;\n",
       "    }\n",
       "</style>\n",
       "<table border=\"1\" class=\"dataframe\">\n",
       "  <thead>\n",
       "    <tr style=\"text-align: right;\">\n",
       "      <th></th>\n",
       "      <th>product</th>\n",
       "      <th>status</th>\n",
       "    </tr>\n",
       "  </thead>\n",
       "  <tbody>\n",
       "    <tr>\n",
       "      <th>6</th>\n",
       "      <td>Legacy</td>\n",
       "      <td>Discontinued</td>\n",
       "    </tr>\n",
       "    <tr>\n",
       "      <th>7</th>\n",
       "      <td>Beta</td>\n",
       "      <td>Preview</td>\n",
       "    </tr>\n",
       "  </tbody>\n",
       "</table>\n",
       "</div>"
      ],
      "text/plain": [
       "  product        status\n",
       "6  Legacy  Discontinued\n",
       "7    Beta       Preview"
      ]
     },
     "metadata": {},
     "output_type": "display_data"
    }
   ],
   "source": [
    "# Task 4: Status vs sales analysis\n",
    "status_analysis = products.merge(\n",
    "    sales.groupby('product_id').size().reset_index(name='sales_count'),\n",
    "    on='product_id',\n",
    "    how='left'\n",
    ")\n",
    "status_analysis['sales_count'] = status_analysis['sales_count'].fillna(0)\n",
    "\n",
    "print(\"Task 4 - Sales Count by Product Status:\")\n",
    "display(status_analysis[['product', 'status', 'sales_count']])\n",
    "\n",
    "print(\"\\nProducts with zero sales:\")\n",
    "display(status_analysis[status_analysis['sales_count'] == 0][['product', 'status']])"
   ]
  },
  {
   "cell_type": "markdown",
   "metadata": {},
   "source": [
    "---\n",
    "# Exercise 7: Full Outer Join - Complete Picture\n",
    "\n",
    "**Goal:** See ALL products and ALL sales, matched or not"
   ]
  },
  {
   "cell_type": "code",
   "execution_count": 51,
   "metadata": {},
   "outputs": [
    {
     "name": "stdout",
     "output_type": "stream",
     "text": [
      "Task 1 - Full outer join: 262 rows\n"
     ]
    }
   ],
   "source": [
    "# Task 1: Full outer join with indicator\n",
    "merged_full = sales.merge(products, on='product_id', how='outer', indicator=True)\n",
    "\n",
    "print(f\"Task 1 - Full outer join: {len(merged_full)} rows\")"
   ]
  },
  {
   "cell_type": "code",
   "execution_count": 52,
   "metadata": {},
   "outputs": [
    {
     "name": "stdout",
     "output_type": "stream",
     "text": [
      "Task 2 - Merge Categories:\n"
     ]
    },
    {
     "data": {
      "text/plain": [
       "_merge\n",
       "both          242\n",
       "left_only      18\n",
       "right_only      2\n",
       "Name: count, dtype: int64"
      ]
     },
     "metadata": {},
     "output_type": "display_data"
    },
    {
     "name": "stdout",
     "output_type": "stream",
     "text": [
      "\n",
      "- Matched (both): 242 records\n",
      "- Sales orphans (left_only): 18 records\n",
      "- Product orphans (right_only): 2 records\n"
     ]
    }
   ],
   "source": [
    "# Task 2: Count by merge category\n",
    "merge_counts = merged_full['_merge'].value_counts()\n",
    "\n",
    "print(\"Task 2 - Merge Categories:\")\n",
    "display(merge_counts)\n",
    "print(f\"\\n- Matched (both): {merge_counts.get('both', 0)} records\")\n",
    "print(f\"- Sales orphans (left_only): {merge_counts.get('left_only', 0)} records\")\n",
    "print(f\"- Product orphans (right_only): {merge_counts.get('right_only', 0)} records\")"
   ]
  },
  {
   "cell_type": "code",
   "execution_count": 53,
   "metadata": {},
   "outputs": [
    {
     "name": "stdout",
     "output_type": "stream",
     "text": [
      "Task 3 - Revenue from complete records: $454,498.72\n",
      "Total revenue: $460,727.86\n",
      "Percentage: 98.65%\n"
     ]
    }
   ],
   "source": [
    "# Task 3: Revenue from complete records\n",
    "complete_revenue = merged_full[merged_full['_merge'] == 'both']['revenue'].sum()\n",
    "total_revenue = merged_full['revenue'].sum()\n",
    "\n",
    "print(f\"Task 3 - Revenue from complete records: ${complete_revenue:,.2f}\")\n",
    "print(f\"Total revenue: ${total_revenue:,.2f}\")\n",
    "print(f\"Percentage: {complete_revenue/total_revenue*100:.2f}%\")"
   ]
  },
  {
   "cell_type": "code",
   "execution_count": 54,
   "metadata": {},
   "outputs": [
    {
     "name": "stdout",
     "output_type": "stream",
     "text": [
      "Examples from each merge category:\n",
      "\n",
      "--- MATCHED (both) ---\n"
     ]
    },
    {
     "data": {
      "text/html": [
       "<div>\n",
       "<style scoped>\n",
       "    .dataframe tbody tr th:only-of-type {\n",
       "        vertical-align: middle;\n",
       "    }\n",
       "\n",
       "    .dataframe tbody tr th {\n",
       "        vertical-align: top;\n",
       "    }\n",
       "\n",
       "    .dataframe thead th {\n",
       "        text-align: right;\n",
       "    }\n",
       "</style>\n",
       "<table border=\"1\" class=\"dataframe\">\n",
       "  <thead>\n",
       "    <tr style=\"text-align: right;\">\n",
       "      <th></th>\n",
       "      <th>order_id</th>\n",
       "      <th>product_id</th>\n",
       "      <th>product</th>\n",
       "      <th>revenue</th>\n",
       "    </tr>\n",
       "  </thead>\n",
       "  <tbody>\n",
       "    <tr>\n",
       "      <th>0</th>\n",
       "      <td>SO-10001</td>\n",
       "      <td>P-ADD</td>\n",
       "      <td>Add-on</td>\n",
       "      <td>556.34</td>\n",
       "    </tr>\n",
       "    <tr>\n",
       "      <th>1</th>\n",
       "      <td>SO-10005</td>\n",
       "      <td>P-ADD</td>\n",
       "      <td>Add-on</td>\n",
       "      <td>1012.71</td>\n",
       "    </tr>\n",
       "    <tr>\n",
       "      <th>2</th>\n",
       "      <td>SO-10007</td>\n",
       "      <td>P-ADD</td>\n",
       "      <td>Add-on</td>\n",
       "      <td>686.96</td>\n",
       "    </tr>\n",
       "  </tbody>\n",
       "</table>\n",
       "</div>"
      ],
      "text/plain": [
       "   order_id product_id product  revenue\n",
       "0  SO-10001      P-ADD  Add-on   556.34\n",
       "1  SO-10005      P-ADD  Add-on  1012.71\n",
       "2  SO-10007      P-ADD  Add-on   686.96"
      ]
     },
     "metadata": {},
     "output_type": "display_data"
    },
    {
     "name": "stdout",
     "output_type": "stream",
     "text": [
      "\n",
      "--- SALES ORPHANS (left_only) ---\n"
     ]
    },
    {
     "data": {
      "text/html": [
       "<div>\n",
       "<style scoped>\n",
       "    .dataframe tbody tr th:only-of-type {\n",
       "        vertical-align: middle;\n",
       "    }\n",
       "\n",
       "    .dataframe tbody tr th {\n",
       "        vertical-align: top;\n",
       "    }\n",
       "\n",
       "    .dataframe thead th {\n",
       "        text-align: right;\n",
       "    }\n",
       "</style>\n",
       "<table border=\"1\" class=\"dataframe\">\n",
       "  <thead>\n",
       "    <tr style=\"text-align: right;\">\n",
       "      <th></th>\n",
       "      <th>order_id</th>\n",
       "      <th>product_id</th>\n",
       "      <th>revenue</th>\n",
       "    </tr>\n",
       "  </thead>\n",
       "  <tbody>\n",
       "    <tr>\n",
       "      <th>158</th>\n",
       "      <td>SO-10016</td>\n",
       "      <td>P-OEM</td>\n",
       "      <td>555.74</td>\n",
       "    </tr>\n",
       "    <tr>\n",
       "      <th>159</th>\n",
       "      <td>SO-10019</td>\n",
       "      <td>P-OEM</td>\n",
       "      <td>363.94</td>\n",
       "    </tr>\n",
       "    <tr>\n",
       "      <th>160</th>\n",
       "      <td>SO-10058</td>\n",
       "      <td>P-OEM</td>\n",
       "      <td>206.22</td>\n",
       "    </tr>\n",
       "  </tbody>\n",
       "</table>\n",
       "</div>"
      ],
      "text/plain": [
       "     order_id product_id  revenue\n",
       "158  SO-10016      P-OEM   555.74\n",
       "159  SO-10019      P-OEM   363.94\n",
       "160  SO-10058      P-OEM   206.22"
      ]
     },
     "metadata": {},
     "output_type": "display_data"
    },
    {
     "name": "stdout",
     "output_type": "stream",
     "text": [
      "\n",
      "--- PRODUCT ORPHANS (right_only) ---\n"
     ]
    },
    {
     "data": {
      "text/html": [
       "<div>\n",
       "<style scoped>\n",
       "    .dataframe tbody tr th:only-of-type {\n",
       "        vertical-align: middle;\n",
       "    }\n",
       "\n",
       "    .dataframe tbody tr th {\n",
       "        vertical-align: top;\n",
       "    }\n",
       "\n",
       "    .dataframe thead th {\n",
       "        text-align: right;\n",
       "    }\n",
       "</style>\n",
       "<table border=\"1\" class=\"dataframe\">\n",
       "  <thead>\n",
       "    <tr style=\"text-align: right;\">\n",
       "      <th></th>\n",
       "      <th>product_id</th>\n",
       "      <th>product</th>\n",
       "      <th>status</th>\n",
       "    </tr>\n",
       "  </thead>\n",
       "  <tbody>\n",
       "    <tr>\n",
       "      <th>114</th>\n",
       "      <td>P-BTA</td>\n",
       "      <td>Beta</td>\n",
       "      <td>Preview</td>\n",
       "    </tr>\n",
       "    <tr>\n",
       "      <th>157</th>\n",
       "      <td>P-LGC</td>\n",
       "      <td>Legacy</td>\n",
       "      <td>Discontinued</td>\n",
       "    </tr>\n",
       "  </tbody>\n",
       "</table>\n",
       "</div>"
      ],
      "text/plain": [
       "    product_id product        status\n",
       "114      P-BTA    Beta       Preview\n",
       "157      P-LGC  Legacy  Discontinued"
      ]
     },
     "metadata": {},
     "output_type": "display_data"
    }
   ],
   "source": [
    "# Show examples of each category\n",
    "print(\"Examples from each merge category:\")\n",
    "print(\"\\n--- MATCHED (both) ---\")\n",
    "display(merged_full[merged_full['_merge'] == 'both'][[\n",
    "    'order_id', 'product_id', 'product', 'revenue'\n",
    "]].head(3))\n",
    "\n",
    "print(\"\\n--- SALES ORPHANS (left_only) ---\")\n",
    "display(merged_full[merged_full['_merge'] == 'left_only'][[\n",
    "    'order_id', 'product_id', 'revenue'\n",
    "]].head(3))\n",
    "\n",
    "print(\"\\n--- PRODUCT ORPHANS (right_only) ---\")\n",
    "display(merged_full[merged_full['_merge'] == 'right_only'][[\n",
    "    'product_id', 'product', 'status'\n",
    "]])"
   ]
  },
  {
   "cell_type": "markdown",
   "metadata": {},
   "source": [
    "---\n",
    "# Exercise 8: Region Mapping with Left Join\n",
    "\n",
    "**Goal:** Add region names to sales using dimension table"
   ]
  },
  {
   "cell_type": "code",
   "execution_count": 55,
   "metadata": {},
   "outputs": [
    {
     "name": "stdout",
     "output_type": "stream",
     "text": [
      "Task 1 - Sales with regions: 260 rows\n"
     ]
    }
   ],
   "source": [
    "# Task 1: Join with regions\n",
    "sales_regions = sales.merge(regions, on='region_code', how='left')\n",
    "\n",
    "print(f\"Task 1 - Sales with regions: {len(sales_regions)} rows\")"
   ]
  },
  {
   "cell_type": "code",
   "execution_count": 56,
   "metadata": {},
   "outputs": [
    {
     "name": "stdout",
     "output_type": "stream",
     "text": [
      "Task 2 - Sales with unmapped regions: 10 rows\n",
      "\n",
      "Unmapped region codes:\n"
     ]
    },
    {
     "data": {
      "text/plain": [
       "region_code\n",
       "LATAM    10\n",
       "Name: count, dtype: int64"
      ]
     },
     "metadata": {},
     "output_type": "display_data"
    }
   ],
   "source": [
    "# Task 2: Find unmapped regions\n",
    "unmapped = sales_regions[sales_regions['region'].isna()]\n",
    "\n",
    "print(f\"Task 2 - Sales with unmapped regions: {len(unmapped)} rows\")\n",
    "if len(unmapped) > 0:\n",
    "    print(\"\\nUnmapped region codes:\")\n",
    "    display(unmapped['region_code'].value_counts())"
   ]
  },
  {
   "cell_type": "code",
   "execution_count": 57,
   "metadata": {},
   "outputs": [
    {
     "name": "stdout",
     "output_type": "stream",
     "text": [
      "Task 3 - Region column cleaned (NaN filled with 'Unknown Region')\n"
     ]
    }
   ],
   "source": [
    "# Task 3: Clean region column\n",
    "sales_regions['region_clean'] = sales_regions['region'].fillna('Unknown Region')\n",
    "\n",
    "print(\"Task 3 - Region column cleaned (NaN filled with 'Unknown Region')\")"
   ]
  },
  {
   "cell_type": "code",
   "execution_count": 58,
   "metadata": {},
   "outputs": [
    {
     "name": "stdout",
     "output_type": "stream",
     "text": [
      "Task 4 - Revenue by Region:\n"
     ]
    },
    {
     "data": {
      "text/plain": [
       "region_clean\n",
       "AMER             168711.06\n",
       "EMEA             134487.20\n",
       "APAC             113627.64\n",
       "Nordics           29626.41\n",
       "Unknown Region    14275.55\n",
       "Name: revenue, dtype: float64"
      ]
     },
     "metadata": {},
     "output_type": "display_data"
    }
   ],
   "source": [
    "# Task 4: Revenue by region\n",
    "by_region = sales_regions.groupby('region_clean')['revenue'].sum()\n",
    "\n",
    "print(\"Task 4 - Revenue by Region:\")\n",
    "display(by_region.sort_values(ascending=False).round(2))"
   ]
  },
  {
   "cell_type": "code",
   "execution_count": 59,
   "metadata": {},
   "outputs": [
    {
     "name": "stdout",
     "output_type": "stream",
     "text": [
      "Task 5 - Region Code Analysis:\n",
      "Codes in sales but NOT in dimension: {'LATAM'}\n",
      "Codes in dimension but NOT in sales: {'ANZ'}\n",
      "\n",
      "🔍 The Mystery: LATAM is used in sales but not in the official regions table!\n",
      "   ANZ is in the regions table but has no sales yet.\n"
     ]
    }
   ],
   "source": [
    "# Task 5: The LATAM/ANZ mystery\n",
    "in_sales = set(sales['region_code'].unique())\n",
    "in_dim = set(regions['region_code'].unique())\n",
    "\n",
    "print(f\"Task 5 - Region Code Analysis:\")\n",
    "print(f\"Codes in sales but NOT in dimension: {in_sales - in_dim if (in_sales - in_dim) else 'None'}\")\n",
    "print(f\"Codes in dimension but NOT in sales: {in_dim - in_sales if (in_dim - in_sales) else 'None'}\")\n",
    "\n",
    "print(\"\\n🔍 The Mystery: LATAM is used in sales but not in the official regions table!\")\n",
    "print(\"   ANZ is in the regions table but has no sales yet.\")"
   ]
  },
  {
   "cell_type": "markdown",
   "metadata": {},
   "source": [
    "---\n",
    "# Exercise 9: Data Quality Check - Revenue Validation\n",
    "\n",
    "**Goal:** Verify that revenue = units × unit_price"
   ]
  },
  {
   "cell_type": "code",
   "execution_count": 60,
   "metadata": {},
   "outputs": [
    {
     "name": "stdout",
     "output_type": "stream",
     "text": [
      "Task 1 - Expected revenue calculated\n"
     ]
    }
   ],
   "source": [
    "# Task 1: Calculate expected revenue\n",
    "sales['expected_revenue'] = sales['units'] * sales['unit_price']\n",
    "\n",
    "print(\"Task 1 - Expected revenue calculated\")"
   ]
  },
  {
   "cell_type": "code",
   "execution_count": 61,
   "metadata": {},
   "outputs": [
    {
     "name": "stdout",
     "output_type": "stream",
     "text": [
      "Task 2 - Revenue differences:\n",
      "Max difference: $0.19\n",
      "Mean difference: $0.04\n",
      "Median difference: $0.03\n"
     ]
    }
   ],
   "source": [
    "# Task 2: Compare with recorded revenue\n",
    "sales['revenue_diff'] = abs(sales['revenue'] - sales['expected_revenue'])\n",
    "\n",
    "print(\"Task 2 - Revenue differences:\")\n",
    "print(f\"Max difference: ${sales['revenue_diff'].max():.2f}\")\n",
    "print(f\"Mean difference: ${sales['revenue_diff'].mean():.2f}\")\n",
    "print(f\"Median difference: ${sales['revenue_diff'].median():.2f}\")"
   ]
  },
  {
   "cell_type": "code",
   "execution_count": 62,
   "metadata": {},
   "outputs": [
    {
     "name": "stdout",
     "output_type": "stream",
     "text": [
      "Task 3 - Records with discrepancies >$0.01: 203\n",
      "\n",
      "Example discrepancies:\n"
     ]
    },
    {
     "data": {
      "text/html": [
       "<div>\n",
       "<style scoped>\n",
       "    .dataframe tbody tr th:only-of-type {\n",
       "        vertical-align: middle;\n",
       "    }\n",
       "\n",
       "    .dataframe tbody tr th {\n",
       "        vertical-align: top;\n",
       "    }\n",
       "\n",
       "    .dataframe thead th {\n",
       "        text-align: right;\n",
       "    }\n",
       "</style>\n",
       "<table border=\"1\" class=\"dataframe\">\n",
       "  <thead>\n",
       "    <tr style=\"text-align: right;\">\n",
       "      <th></th>\n",
       "      <th>order_id</th>\n",
       "      <th>units</th>\n",
       "      <th>unit_price</th>\n",
       "      <th>revenue</th>\n",
       "      <th>expected_revenue</th>\n",
       "      <th>revenue_diff</th>\n",
       "    </tr>\n",
       "  </thead>\n",
       "  <tbody>\n",
       "    <tr>\n",
       "      <th>0</th>\n",
       "      <td>SO-10000</td>\n",
       "      <td>6</td>\n",
       "      <td>513.77</td>\n",
       "      <td>3082.59</td>\n",
       "      <td>3082.62</td>\n",
       "      <td>0.03</td>\n",
       "    </tr>\n",
       "    <tr>\n",
       "      <th>1</th>\n",
       "      <td>SO-10001</td>\n",
       "      <td>18</td>\n",
       "      <td>30.91</td>\n",
       "      <td>556.34</td>\n",
       "      <td>556.38</td>\n",
       "      <td>0.04</td>\n",
       "    </tr>\n",
       "    <tr>\n",
       "      <th>2</th>\n",
       "      <td>SO-10002</td>\n",
       "      <td>8</td>\n",
       "      <td>302.84</td>\n",
       "      <td>2422.68</td>\n",
       "      <td>2422.72</td>\n",
       "      <td>0.04</td>\n",
       "    </tr>\n",
       "    <tr>\n",
       "      <th>3</th>\n",
       "      <td>SO-10003</td>\n",
       "      <td>37</td>\n",
       "      <td>112.30</td>\n",
       "      <td>4155.00</td>\n",
       "      <td>4155.10</td>\n",
       "      <td>0.10</td>\n",
       "    </tr>\n",
       "    <tr>\n",
       "      <th>4</th>\n",
       "      <td>SO-10004</td>\n",
       "      <td>23</td>\n",
       "      <td>108.11</td>\n",
       "      <td>2486.50</td>\n",
       "      <td>2486.53</td>\n",
       "      <td>0.03</td>\n",
       "    </tr>\n",
       "  </tbody>\n",
       "</table>\n",
       "</div>"
      ],
      "text/plain": [
       "   order_id  units  unit_price  revenue  expected_revenue  revenue_diff\n",
       "0  SO-10000      6      513.77  3082.59           3082.62          0.03\n",
       "1  SO-10001     18       30.91   556.34            556.38          0.04\n",
       "2  SO-10002      8      302.84  2422.68           2422.72          0.04\n",
       "3  SO-10003     37      112.30  4155.00           4155.10          0.10\n",
       "4  SO-10004     23      108.11  2486.50           2486.53          0.03"
      ]
     },
     "metadata": {},
     "output_type": "display_data"
    }
   ],
   "source": [
    "# Task 3: Flag discrepancies >$0.01\n",
    "sales['has_discrepancy'] = sales['revenue_diff'] > 0.01\n",
    "discrepancy_count = sales['has_discrepancy'].sum()\n",
    "\n",
    "print(f\"Task 3 - Records with discrepancies >$0.01: {discrepancy_count}\")\n",
    "\n",
    "if discrepancy_count > 0:\n",
    "    print(\"\\nExample discrepancies:\")\n",
    "    display(sales[sales['has_discrepancy']][[\n",
    "        'order_id', 'units', 'unit_price', 'revenue', 'expected_revenue', 'revenue_diff'\n",
    "    ]].head())"
   ]
  },
  {
   "cell_type": "code",
   "execution_count": 63,
   "metadata": {},
   "outputs": [
    {
     "name": "stdout",
     "output_type": "stream",
     "text": [
      "Task 4 - Percentage with discrepancies: 78.1%\n"
     ]
    }
   ],
   "source": [
    "# Task 4: Percentage with discrepancies\n",
    "discrepancy_pct = (discrepancy_count / len(sales)) * 100\n",
    "\n",
    "print(f\"Task 4 - Percentage with discrepancies: {discrepancy_pct:.1f}%\")"
   ]
  },
  {
   "cell_type": "code",
   "execution_count": 64,
   "metadata": {},
   "outputs": [
    {
     "name": "stdout",
     "output_type": "stream",
     "text": [
      "Task 5 - Discrepancy rate by product:\n"
     ]
    },
    {
     "data": {
      "text/plain": [
       "product_id\n",
       "P-ADD   89.70\n",
       "P-ANL   78.80\n",
       "P-BSC   88.50\n",
       "P-ENT   47.60\n",
       "P-OEM   55.60\n",
       "P-PLS   91.70\n",
       "P-PRO   78.90\n",
       "P-TRI   66.70\n",
       "Name: has_discrepancy, dtype: float64"
      ]
     },
     "metadata": {},
     "output_type": "display_data"
    },
    {
     "name": "stdout",
     "output_type": "stream",
     "text": [
      "\n",
      "Discrepancy rate by region:\n"
     ]
    },
    {
     "data": {
      "text/plain": [
       "region_code\n",
       "AMER    84.60\n",
       "APAC    76.70\n",
       "EMEA    77.60\n",
       "LATAM   70.00\n",
       "NORD    65.20\n",
       "Name: has_discrepancy, dtype: float64"
      ]
     },
     "metadata": {},
     "output_type": "display_data"
    }
   ],
   "source": [
    "# Task 5: Discrepancies by product and region\n",
    "if discrepancy_count > 0:\n",
    "    by_product = (sales.groupby('product_id')['has_discrepancy'].mean() * 100).round(1)\n",
    "    by_region = (sales.groupby('region_code')['has_discrepancy'].mean() * 100).round(1)\n",
    "    \n",
    "    print(\"Task 5 - Discrepancy rate by product:\")\n",
    "    display(by_product[by_product > 0])\n",
    "    \n",
    "    print(\"\\nDiscrepancy rate by region:\")\n",
    "    display(by_region[by_region > 0])\n",
    "else:\n",
    "    print(\"Task 5 - No discrepancies found!\")"
   ]
  },
  {
   "cell_type": "markdown",
   "metadata": {},
   "source": [
    "---\n",
    "# Exercise 10: String Cleaning for Better Joins\n",
    "\n",
    "**Goal:** Handle common string matching issues"
   ]
  },
  {
   "cell_type": "code",
   "execution_count": 65,
   "metadata": {},
   "outputs": [
    {
     "name": "stdout",
     "output_type": "stream",
     "text": [
      "Task 1 - Checking for whitespace issues:\n",
      "✓ Clean: sales.product_id\n",
      "✓ Clean: sales.region_code\n",
      "✓ Clean: sales.weekday\n",
      "✓ Clean: products.product_id\n",
      "✓ Clean: products.product\n",
      "✓ Clean: products.category\n",
      "✓ Clean: products.status\n",
      "✓ Clean: regions.region_code\n",
      "✓ Clean: regions.region\n"
     ]
    }
   ],
   "source": [
    "# Task 1: Check for whitespace issues\n",
    "def check_whitespace(df, col):\n",
    "    has_leading = df[col].str.match(r'^\\s').any()\n",
    "    has_trailing = df[col].str.match(r'\\s$').any()\n",
    "    return has_leading or has_trailing\n",
    "\n",
    "print(\"Task 1 - Checking for whitespace issues:\")\n",
    "for df, name in [(sales, 'sales'), (products, 'products'), (regions, 'regions')]:\n",
    "    for col in df.select_dtypes(include='object').columns:\n",
    "        if col not in ['order_date', 'order_id', 'year_month']:\n",
    "            has_ws = check_whitespace(df, col)\n",
    "            status = \"⚠️  HAS WHITESPACE\" if has_ws else \"✓ Clean\"\n",
    "            print(f\"{status}: {name}.{col}\")"
   ]
  },
  {
   "cell_type": "code",
   "execution_count": 66,
   "metadata": {},
   "outputs": [
    {
     "name": "stdout",
     "output_type": "stream",
     "text": [
      "Task 2 - Checking for case inconsistencies:\n",
      "Sales product_id unique values: 8\n",
      "Sales product_id unique (case-insensitive): 8\n",
      "\n",
      "✓ No case inconsistencies found\n"
     ]
    }
   ],
   "source": [
    "# Task 2: Check for case inconsistencies\n",
    "print(\"Task 2 - Checking for case inconsistencies:\")\n",
    "print(f\"Sales product_id unique values: {sales['product_id'].nunique()}\")\n",
    "print(f\"Sales product_id unique (case-insensitive): {sales['product_id'].str.upper().nunique()}\")\n",
    "print(\"\\n✓ No case inconsistencies found\")"
   ]
  },
  {
   "cell_type": "code",
   "execution_count": 67,
   "metadata": {},
   "outputs": [
    {
     "name": "stdout",
     "output_type": "stream",
     "text": [
      "Task 3 - Cleaned versions created\n"
     ]
    }
   ],
   "source": [
    "# Task 3: Create cleaned versions\n",
    "def clean_string_column(series):\n",
    "    \"\"\"Clean a string column for joining\"\"\"\n",
    "    if series.dtype == 'object':\n",
    "        return (series\n",
    "                .str.strip()           # Remove whitespace\n",
    "                .str.upper()           # Standardize case\n",
    "                .str.replace(r'\\s+', ' ', regex=True))  # Collapse spaces\n",
    "    return series\n",
    "\n",
    "# Apply cleaning\n",
    "sales_clean = sales.copy()\n",
    "products_clean = products.copy()\n",
    "regions_clean = regions.copy()\n",
    "\n",
    "for df in [sales_clean, products_clean, regions_clean]:\n",
    "    for col in df.select_dtypes(include='object').columns:\n",
    "        if col not in ['order_date', 'order_id', 'year_month', 'weekday']:\n",
    "            df[col] = clean_string_column(df[col])\n",
    "\n",
    "print(\"Task 3 - Cleaned versions created\")"
   ]
  },
  {
   "cell_type": "code",
   "execution_count": 68,
   "metadata": {},
   "outputs": [
    {
     "name": "stdout",
     "output_type": "stream",
     "text": [
      "Task 4 - Join comparison:\n",
      "Original inner join: 242 rows\n",
      "Cleaned inner join: 242 rows\n",
      "Difference: 0 rows\n",
      "\n",
      "✓ No difference because data is already clean!\n"
     ]
    }
   ],
   "source": [
    "# Task 4: Compare joins\n",
    "original_inner = sales.merge(products, on='product_id', how='inner')\n",
    "cleaned_inner = sales_clean.merge(products_clean, on='product_id', how='inner')\n",
    "\n",
    "print(f\"Task 4 - Join comparison:\")\n",
    "print(f\"Original inner join: {len(original_inner)} rows\")\n",
    "print(f\"Cleaned inner join: {len(cleaned_inner)} rows\")\n",
    "print(f\"Difference: {len(cleaned_inner) - len(original_inner)} rows\")\n",
    "print(\"\\n✓ No difference because data is already clean!\")"
   ]
  },
  {
   "cell_type": "code",
   "execution_count": 69,
   "metadata": {},
   "outputs": [
    {
     "name": "stdout",
     "output_type": "stream",
     "text": [
      "Task 5 - Reusable cleaning function:\n",
      "\n",
      "def clean_string_column(series):\n",
      "    if series.dtype == 'object':\n",
      "        return (series\n",
      "                .str.strip()\n",
      "                .str.upper()\n",
      "                .str.replace(r'\\s+', ' ', regex=True))\n",
      "    return series\n",
      "\n",
      "# Use before joining:\n",
      "df['product_id'] = clean_string_column(df['product_id'])\n",
      "\n",
      "\n",
      "💡 Always clean strings before joining - it's a best practice!\n"
     ]
    }
   ],
   "source": [
    "# Task 5: Show the cleaning function\n",
    "print(\"Task 5 - Reusable cleaning function:\")\n",
    "print(\"\"\"\\ndef clean_string_column(series):\n",
    "    if series.dtype == 'object':\n",
    "        return (series\n",
    "                .str.strip()\n",
    "                .str.upper()\n",
    "                .str.replace(r'\\\\s+', ' ', regex=True))\n",
    "    return series\n",
    "\n",
    "# Use before joining:\n",
    "df['product_id'] = clean_string_column(df['product_id'])\n",
    "\"\"\")\n",
    "print(\"\\n💡 Always clean strings before joining - it's a best practice!\")"
   ]
  },
  {
   "cell_type": "markdown",
   "metadata": {},
   "source": [
    "---\n",
    "# Exercise 11: Multi-Table Join Chain\n",
    "\n",
    "**Goal:** Combine all three tables in sequence"
   ]
  },
  {
   "cell_type": "code",
   "execution_count": 70,
   "metadata": {},
   "outputs": [
    {
     "name": "stdout",
     "output_type": "stream",
     "text": [
      "Comprehensive view: 260 rows × 22 columns\n",
      "\n",
      "All 260 sales retained with full product and region details!\n",
      "\n",
      "Columns: ['order_id', 'order_date', 'product_id', 'region_code', 'units', 'unit_price', 'revenue', 'year_month', 'year', 'month', 'quarter', 'weekday', 'fiscal_quarter', 'days_since', 'expected_revenue', 'revenue_diff', 'has_discrepancy', 'product', 'category', 'list_price', 'status', 'region']\n"
     ]
    }
   ],
   "source": [
    "# Tasks 1-4: Chain all joins\n",
    "comprehensive = (\n",
    "    sales\n",
    "    .merge(products, on='product_id', how='left')\n",
    "    .merge(regions, on='region_code', how='left')\n",
    ")\n",
    "\n",
    "print(f\"Comprehensive view: {len(comprehensive)} rows × {len(comprehensive.columns)} columns\")\n",
    "print(f\"\\nAll {len(sales)} sales retained with full product and region details!\")\n",
    "print(f\"\\nColumns: {comprehensive.columns.tolist()}\")"
   ]
  },
  {
   "cell_type": "code",
   "execution_count": 71,
   "metadata": {},
   "outputs": [
    {
     "name": "stdout",
     "output_type": "stream",
     "text": [
      "Task 5 - Revenue by Category × Region:\n"
     ]
    },
    {
     "data": {
      "text/html": [
       "<div>\n",
       "<style scoped>\n",
       "    .dataframe tbody tr th:only-of-type {\n",
       "        vertical-align: middle;\n",
       "    }\n",
       "\n",
       "    .dataframe tbody tr th {\n",
       "        vertical-align: top;\n",
       "    }\n",
       "\n",
       "    .dataframe thead th {\n",
       "        text-align: right;\n",
       "    }\n",
       "</style>\n",
       "<table border=\"1\" class=\"dataframe\">\n",
       "  <thead>\n",
       "    <tr style=\"text-align: right;\">\n",
       "      <th>region</th>\n",
       "      <th>AMER</th>\n",
       "      <th>APAC</th>\n",
       "      <th>EMEA</th>\n",
       "      <th>Nordics</th>\n",
       "    </tr>\n",
       "    <tr>\n",
       "      <th>category</th>\n",
       "      <th></th>\n",
       "      <th></th>\n",
       "      <th></th>\n",
       "      <th></th>\n",
       "    </tr>\n",
       "  </thead>\n",
       "  <tbody>\n",
       "    <tr>\n",
       "      <th>Addon</th>\n",
       "      <td>36303.44</td>\n",
       "      <td>22522.15</td>\n",
       "      <td>38632.28</td>\n",
       "      <td>5685.37</td>\n",
       "    </tr>\n",
       "    <tr>\n",
       "      <th>Core</th>\n",
       "      <td>83139.57</td>\n",
       "      <td>59097.14</td>\n",
       "      <td>79625.67</td>\n",
       "      <td>17768.50</td>\n",
       "    </tr>\n",
       "    <tr>\n",
       "      <th>Suite</th>\n",
       "      <td>48927.76</td>\n",
       "      <td>29289.86</td>\n",
       "      <td>13617.57</td>\n",
       "      <td>5945.77</td>\n",
       "    </tr>\n",
       "  </tbody>\n",
       "</table>\n",
       "</div>"
      ],
      "text/plain": [
       "region       AMER     APAC     EMEA  Nordics\n",
       "category                                    \n",
       "Addon    36303.44 22522.15 38632.28  5685.37\n",
       "Core     83139.57 59097.14 79625.67 17768.50\n",
       "Suite    48927.76 29289.86 13617.57  5945.77"
      ]
     },
     "metadata": {},
     "output_type": "display_data"
    },
    {
     "name": "stdout",
     "output_type": "stream",
     "text": [
      "\n",
      "Total by category:\n"
     ]
    },
    {
     "data": {
      "text/plain": [
       "category\n",
       "Core    244595.41\n",
       "Addon   106504.97\n",
       "Suite   103398.34\n",
       "Name: revenue, dtype: float64"
      ]
     },
     "metadata": {},
     "output_type": "display_data"
    }
   ],
   "source": [
    "# Task 5: Revenue by category and region\n",
    "cat_region = comprehensive.pivot_table(\n",
    "    index='category',\n",
    "    columns='region',\n",
    "    values='revenue',\n",
    "    aggfunc='sum',\n",
    "    fill_value=0\n",
    ").round(2)\n",
    "\n",
    "print(\"Task 5 - Revenue by Category × Region:\")\n",
    "display(cat_region)\n",
    "\n",
    "print(\"\\nTotal by category:\")\n",
    "display(comprehensive.groupby('category')['revenue'].sum().sort_values(ascending=False).round(2))"
   ]
  },
  {
   "cell_type": "markdown",
   "metadata": {},
   "source": [
    "---\n",
    "# Exercise 12: Aggregation After Joins (Advanced)\n",
    "\n",
    "**Goal:** Answer complex business questions using joined data"
   ]
  },
  {
   "cell_type": "code",
   "execution_count": 72,
   "metadata": {},
   "outputs": [
    {
     "name": "stdout",
     "output_type": "stream",
     "text": [
      "Task 1 - Total Revenue by Category:\n"
     ]
    },
    {
     "data": {
      "text/plain": [
       "category\n",
       "Core    244595.41\n",
       "Addon   106504.97\n",
       "Suite   103398.34\n",
       "Name: revenue, dtype: float64"
      ]
     },
     "metadata": {},
     "output_type": "display_data"
    }
   ],
   "source": [
    "# Task 1: Revenue by category\n",
    "task1 = comprehensive.groupby('category')['revenue'].sum().sort_values(ascending=False)\n",
    "\n",
    "print(\"Task 1 - Total Revenue by Category:\")\n",
    "display(task1.round(2))"
   ]
  },
  {
   "cell_type": "code",
   "execution_count": 73,
   "metadata": {},
   "outputs": [
    {
     "name": "stdout",
     "output_type": "stream",
     "text": [
      "Task 2 - Average Discount Rate by Region (%):\n"
     ]
    },
    {
     "data": {
      "text/plain": [
       "region\n",
       "AMER       0.49\n",
       "APAC      -0.75\n",
       "EMEA      -0.05\n",
       "Nordics   -0.01\n",
       "Name: discount_rate, dtype: float64"
      ]
     },
     "metadata": {},
     "output_type": "display_data"
    }
   ],
   "source": [
    "# Task 2: Average discount by region\n",
    "comprehensive['discount_rate'] = (\n",
    "    (comprehensive['list_price'] - comprehensive['unit_price']) \n",
    "    / comprehensive['list_price']\n",
    ")\n",
    "task2 = comprehensive.groupby('region')['discount_rate'].mean() * 100\n",
    "\n",
    "print(\"Task 2 - Average Discount Rate by Region (%):\")\n",
    "display(task2.round(2))"
   ]
  },
  {
   "cell_type": "code",
   "execution_count": 74,
   "metadata": {},
   "outputs": [
    {
     "name": "stdout",
     "output_type": "stream",
     "text": [
      "Task 3 - Average Order Size (units) by Category:\n"
     ]
    },
    {
     "data": {
      "text/plain": [
       "category\n",
       "Addon   19.32\n",
       "Core    19.24\n",
       "Suite    5.05\n",
       "Name: units, dtype: float64"
      ]
     },
     "metadata": {},
     "output_type": "display_data"
    },
    {
     "name": "stdout",
     "output_type": "stream",
     "text": [
      "\n",
      "💡 Suite products (Enterprise) have much smaller order sizes!\n"
     ]
    }
   ],
   "source": [
    "# Task 3: Average order size by category\n",
    "task3 = comprehensive.groupby('category')['units'].mean()\n",
    "\n",
    "print(\"Task 3 - Average Order Size (units) by Category:\")\n",
    "display(task3.round(2))\n",
    "print(\"\\n💡 Suite products (Enterprise) have much smaller order sizes!\")"
   ]
  },
  {
   "cell_type": "code",
   "execution_count": 75,
   "metadata": {},
   "outputs": [
    {
     "name": "stdout",
     "output_type": "stream",
     "text": [
      "Task 4 - Revenue by Product Status:\n"
     ]
    },
    {
     "data": {
      "text/plain": [
       "status\n",
       "Active   454498.72\n",
       "Name: revenue, dtype: float64"
      ]
     },
     "metadata": {},
     "output_type": "display_data"
    },
    {
     "name": "stdout",
     "output_type": "stream",
     "text": [
      "\n",
      "(Only Active products have sales)\n"
     ]
    }
   ],
   "source": [
    "# Task 4: Revenue by status\n",
    "task4 = comprehensive.groupby('status')['revenue'].sum().sort_values(ascending=False)\n",
    "\n",
    "print(\"Task 4 - Revenue by Product Status:\")\n",
    "display(task4.round(2))\n",
    "print(\"\\n(Only Active products have sales)\")"
   ]
  },
  {
   "cell_type": "code",
   "execution_count": 76,
   "metadata": {},
   "outputs": [
    {
     "name": "stdout",
     "output_type": "stream",
     "text": [
      "Task 5 - Peak Revenue Month by Category:\n",
      "Addon: 2024-01 ($17,976.25)\n",
      "Core: 2025-02 ($18,353.55)\n",
      "Suite: 2024-09 ($15,190.15)\n"
     ]
    }
   ],
   "source": [
    "# Task 5: Peak month by category\n",
    "comprehensive['month_period'] = comprehensive['order_date'].dt.to_period('M')\n",
    "monthly_cat = comprehensive.groupby(['category', 'month_period'])['revenue'].sum()\n",
    "peak_months = monthly_cat.groupby(level=0).idxmax()\n",
    "\n",
    "print(\"Task 5 - Peak Revenue Month by Category:\")\n",
    "for category, (cat, month) in peak_months.items():\n",
    "    peak_rev = monthly_cat[cat, month]\n",
    "    print(f\"{category}: {month} (${peak_rev:,.2f})\")"
   ]
  },
  {
   "cell_type": "markdown",
   "metadata": {},
   "source": [
    "---\n",
    "# Exercise 13: Pivot Tables & Cross-Tabs\n",
    "\n",
    "**Goal:** Create Excel-style pivot tables"
   ]
  },
  {
   "cell_type": "code",
   "execution_count": 77,
   "metadata": {},
   "outputs": [
    {
     "name": "stdout",
     "output_type": "stream",
     "text": [
      "Task 1 - Product × Region Revenue Matrix:\n"
     ]
    },
    {
     "data": {
      "text/html": [
       "<div>\n",
       "<style scoped>\n",
       "    .dataframe tbody tr th:only-of-type {\n",
       "        vertical-align: middle;\n",
       "    }\n",
       "\n",
       "    .dataframe tbody tr th {\n",
       "        vertical-align: top;\n",
       "    }\n",
       "\n",
       "    .dataframe thead th {\n",
       "        text-align: right;\n",
       "    }\n",
       "</style>\n",
       "<table border=\"1\" class=\"dataframe\">\n",
       "  <thead>\n",
       "    <tr style=\"text-align: right;\">\n",
       "      <th>region</th>\n",
       "      <th>AMER</th>\n",
       "      <th>APAC</th>\n",
       "      <th>EMEA</th>\n",
       "      <th>Nordics</th>\n",
       "    </tr>\n",
       "    <tr>\n",
       "      <th>product</th>\n",
       "      <th></th>\n",
       "      <th></th>\n",
       "      <th></th>\n",
       "      <th></th>\n",
       "    </tr>\n",
       "  </thead>\n",
       "  <tbody>\n",
       "    <tr>\n",
       "      <th>Add-on</th>\n",
       "      <td>7157.68</td>\n",
       "      <td>6028.36</td>\n",
       "      <td>13550.26</td>\n",
       "      <td>1122.64</td>\n",
       "    </tr>\n",
       "    <tr>\n",
       "      <th>Analytics</th>\n",
       "      <td>29145.76</td>\n",
       "      <td>16493.79</td>\n",
       "      <td>25082.02</td>\n",
       "      <td>4562.73</td>\n",
       "    </tr>\n",
       "    <tr>\n",
       "      <th>Basic</th>\n",
       "      <td>23934.16</td>\n",
       "      <td>17957.99</td>\n",
       "      <td>13510.18</td>\n",
       "      <td>5719.80</td>\n",
       "    </tr>\n",
       "    <tr>\n",
       "      <th>Enterprise</th>\n",
       "      <td>48927.76</td>\n",
       "      <td>29289.86</td>\n",
       "      <td>13617.57</td>\n",
       "      <td>5945.77</td>\n",
       "    </tr>\n",
       "    <tr>\n",
       "      <th>Plus</th>\n",
       "      <td>33820.45</td>\n",
       "      <td>25607.96</td>\n",
       "      <td>23151.35</td>\n",
       "      <td>3828.26</td>\n",
       "    </tr>\n",
       "    <tr>\n",
       "      <th>Pro</th>\n",
       "      <td>25384.96</td>\n",
       "      <td>15531.19</td>\n",
       "      <td>42964.14</td>\n",
       "      <td>8220.44</td>\n",
       "    </tr>\n",
       "  </tbody>\n",
       "</table>\n",
       "</div>"
      ],
      "text/plain": [
       "region         AMER     APAC     EMEA  Nordics\n",
       "product                                       \n",
       "Add-on      7157.68  6028.36 13550.26  1122.64\n",
       "Analytics  29145.76 16493.79 25082.02  4562.73\n",
       "Basic      23934.16 17957.99 13510.18  5719.80\n",
       "Enterprise 48927.76 29289.86 13617.57  5945.77\n",
       "Plus       33820.45 25607.96 23151.35  3828.26\n",
       "Pro        25384.96 15531.19 42964.14  8220.44"
      ]
     },
     "metadata": {},
     "output_type": "display_data"
    }
   ],
   "source": [
    "# Task 1: Product × Region pivot\n",
    "pivot_rev = comprehensive.pivot_table(\n",
    "    index='product',\n",
    "    columns='region',\n",
    "    values='revenue',\n",
    "    aggfunc='sum',\n",
    "    fill_value=0\n",
    ").round(2)\n",
    "\n",
    "print(\"Task 1 - Product × Region Revenue Matrix:\")\n",
    "display(pivot_rev)"
   ]
  },
  {
   "cell_type": "code",
   "execution_count": 78,
   "metadata": {},
   "outputs": [
    {
     "name": "stdout",
     "output_type": "stream",
     "text": [
      "Task 2 - Month × Product Units Matrix (first 10 months):\n"
     ]
    },
    {
     "data": {
      "text/html": [
       "<div>\n",
       "<style scoped>\n",
       "    .dataframe tbody tr th:only-of-type {\n",
       "        vertical-align: middle;\n",
       "    }\n",
       "\n",
       "    .dataframe tbody tr th {\n",
       "        vertical-align: top;\n",
       "    }\n",
       "\n",
       "    .dataframe thead th {\n",
       "        text-align: right;\n",
       "    }\n",
       "</style>\n",
       "<table border=\"1\" class=\"dataframe\">\n",
       "  <thead>\n",
       "    <tr style=\"text-align: right;\">\n",
       "      <th>product</th>\n",
       "      <th>Add-on</th>\n",
       "      <th>Analytics</th>\n",
       "      <th>Basic</th>\n",
       "      <th>Enterprise</th>\n",
       "      <th>Plus</th>\n",
       "      <th>Pro</th>\n",
       "    </tr>\n",
       "    <tr>\n",
       "      <th>month_period</th>\n",
       "      <th></th>\n",
       "      <th></th>\n",
       "      <th></th>\n",
       "      <th></th>\n",
       "      <th></th>\n",
       "      <th></th>\n",
       "    </tr>\n",
       "  </thead>\n",
       "  <tbody>\n",
       "    <tr>\n",
       "      <th>2024-01</th>\n",
       "      <td>32</td>\n",
       "      <td>57</td>\n",
       "      <td>49</td>\n",
       "      <td>0</td>\n",
       "      <td>34</td>\n",
       "      <td>10</td>\n",
       "    </tr>\n",
       "    <tr>\n",
       "      <th>2024-02</th>\n",
       "      <td>33</td>\n",
       "      <td>6</td>\n",
       "      <td>131</td>\n",
       "      <td>7</td>\n",
       "      <td>14</td>\n",
       "      <td>13</td>\n",
       "    </tr>\n",
       "    <tr>\n",
       "      <th>2024-03</th>\n",
       "      <td>29</td>\n",
       "      <td>0</td>\n",
       "      <td>104</td>\n",
       "      <td>0</td>\n",
       "      <td>73</td>\n",
       "      <td>0</td>\n",
       "    </tr>\n",
       "    <tr>\n",
       "      <th>2024-04</th>\n",
       "      <td>53</td>\n",
       "      <td>21</td>\n",
       "      <td>91</td>\n",
       "      <td>21</td>\n",
       "      <td>74</td>\n",
       "      <td>29</td>\n",
       "    </tr>\n",
       "    <tr>\n",
       "      <th>2024-05</th>\n",
       "      <td>0</td>\n",
       "      <td>22</td>\n",
       "      <td>102</td>\n",
       "      <td>17</td>\n",
       "      <td>30</td>\n",
       "      <td>19</td>\n",
       "    </tr>\n",
       "    <tr>\n",
       "      <th>2024-06</th>\n",
       "      <td>34</td>\n",
       "      <td>12</td>\n",
       "      <td>93</td>\n",
       "      <td>18</td>\n",
       "      <td>35</td>\n",
       "      <td>8</td>\n",
       "    </tr>\n",
       "    <tr>\n",
       "      <th>2024-07</th>\n",
       "      <td>30</td>\n",
       "      <td>4</td>\n",
       "      <td>63</td>\n",
       "      <td>2</td>\n",
       "      <td>71</td>\n",
       "      <td>28</td>\n",
       "    </tr>\n",
       "    <tr>\n",
       "      <th>2024-08</th>\n",
       "      <td>0</td>\n",
       "      <td>36</td>\n",
       "      <td>57</td>\n",
       "      <td>11</td>\n",
       "      <td>25</td>\n",
       "      <td>6</td>\n",
       "    </tr>\n",
       "    <tr>\n",
       "      <th>2024-09</th>\n",
       "      <td>72</td>\n",
       "      <td>0</td>\n",
       "      <td>39</td>\n",
       "      <td>31</td>\n",
       "      <td>58</td>\n",
       "      <td>37</td>\n",
       "    </tr>\n",
       "    <tr>\n",
       "      <th>2024-10</th>\n",
       "      <td>24</td>\n",
       "      <td>0</td>\n",
       "      <td>45</td>\n",
       "      <td>9</td>\n",
       "      <td>71</td>\n",
       "      <td>23</td>\n",
       "    </tr>\n",
       "  </tbody>\n",
       "</table>\n",
       "</div>"
      ],
      "text/plain": [
       "product       Add-on  Analytics  Basic  Enterprise  Plus  Pro\n",
       "month_period                                                 \n",
       "2024-01           32         57     49           0    34   10\n",
       "2024-02           33          6    131           7    14   13\n",
       "2024-03           29          0    104           0    73    0\n",
       "2024-04           53         21     91          21    74   29\n",
       "2024-05            0         22    102          17    30   19\n",
       "2024-06           34         12     93          18    35    8\n",
       "2024-07           30          4     63           2    71   28\n",
       "2024-08            0         36     57          11    25    6\n",
       "2024-09           72          0     39          31    58   37\n",
       "2024-10           24          0     45           9    71   23"
      ]
     },
     "metadata": {},
     "output_type": "display_data"
    }
   ],
   "source": [
    "# Task 2: Month × Product units\n",
    "pivot_units = comprehensive.pivot_table(\n",
    "    index='month_period',\n",
    "    columns='product',\n",
    "    values='units',\n",
    "    aggfunc='sum',\n",
    "    fill_value=0\n",
    ")\n",
    "\n",
    "print(\"Task 2 - Month × Product Units Matrix (first 10 months):\")\n",
    "display(pivot_units.head(10))"
   ]
  },
  {
   "cell_type": "code",
   "execution_count": 79,
   "metadata": {},
   "outputs": [
    {
     "name": "stdout",
     "output_type": "stream",
     "text": [
      "Task 3 - Product Revenue % within Each Region:\n"
     ]
    },
    {
     "data": {
      "text/html": [
       "<div>\n",
       "<style scoped>\n",
       "    .dataframe tbody tr th:only-of-type {\n",
       "        vertical-align: middle;\n",
       "    }\n",
       "\n",
       "    .dataframe tbody tr th {\n",
       "        vertical-align: top;\n",
       "    }\n",
       "\n",
       "    .dataframe thead th {\n",
       "        text-align: right;\n",
       "    }\n",
       "</style>\n",
       "<table border=\"1\" class=\"dataframe\">\n",
       "  <thead>\n",
       "    <tr style=\"text-align: right;\">\n",
       "      <th>region</th>\n",
       "      <th>AMER</th>\n",
       "      <th>APAC</th>\n",
       "      <th>EMEA</th>\n",
       "      <th>Nordics</th>\n",
       "    </tr>\n",
       "    <tr>\n",
       "      <th>product</th>\n",
       "      <th></th>\n",
       "      <th></th>\n",
       "      <th></th>\n",
       "      <th></th>\n",
       "    </tr>\n",
       "  </thead>\n",
       "  <tbody>\n",
       "    <tr>\n",
       "      <th>Add-on</th>\n",
       "      <td>4.30</td>\n",
       "      <td>5.40</td>\n",
       "      <td>10.30</td>\n",
       "      <td>3.80</td>\n",
       "    </tr>\n",
       "    <tr>\n",
       "      <th>Analytics</th>\n",
       "      <td>17.30</td>\n",
       "      <td>14.90</td>\n",
       "      <td>19.00</td>\n",
       "      <td>15.50</td>\n",
       "    </tr>\n",
       "    <tr>\n",
       "      <th>Basic</th>\n",
       "      <td>14.20</td>\n",
       "      <td>16.20</td>\n",
       "      <td>10.20</td>\n",
       "      <td>19.50</td>\n",
       "    </tr>\n",
       "    <tr>\n",
       "      <th>Enterprise</th>\n",
       "      <td>29.10</td>\n",
       "      <td>26.40</td>\n",
       "      <td>10.30</td>\n",
       "      <td>20.20</td>\n",
       "    </tr>\n",
       "    <tr>\n",
       "      <th>Plus</th>\n",
       "      <td>20.10</td>\n",
       "      <td>23.10</td>\n",
       "      <td>17.60</td>\n",
       "      <td>13.00</td>\n",
       "    </tr>\n",
       "    <tr>\n",
       "      <th>Pro</th>\n",
       "      <td>15.10</td>\n",
       "      <td>14.00</td>\n",
       "      <td>32.60</td>\n",
       "      <td>28.00</td>\n",
       "    </tr>\n",
       "  </tbody>\n",
       "</table>\n",
       "</div>"
      ],
      "text/plain": [
       "region      AMER  APAC  EMEA  Nordics\n",
       "product                              \n",
       "Add-on      4.30  5.40 10.30     3.80\n",
       "Analytics  17.30 14.90 19.00    15.50\n",
       "Basic      14.20 16.20 10.20    19.50\n",
       "Enterprise 29.10 26.40 10.30    20.20\n",
       "Plus       20.10 23.10 17.60    13.00\n",
       "Pro        15.10 14.00 32.60    28.00"
      ]
     },
     "metadata": {},
     "output_type": "display_data"
    }
   ],
   "source": [
    "# Task 3: Percentage within each region\n",
    "pivot_pct = pivot_rev.div(pivot_rev.sum(axis=0), axis=1) * 100\n",
    "\n",
    "print(\"Task 3 - Product Revenue % within Each Region:\")\n",
    "display(pivot_pct.round(1))"
   ]
  },
  {
   "cell_type": "code",
   "execution_count": 80,
   "metadata": {},
   "outputs": [
    {
     "name": "stdout",
     "output_type": "stream",
     "text": [
      "Task 4 - Highest Average Order Value:\n",
      "Product-Region: ('Enterprise', 'APAC')\n",
      "Average Order Value: $2,928.99\n"
     ]
    }
   ],
   "source": [
    "# Task 4: Highest average order value\n",
    "avg_order = comprehensive.groupby(['product', 'region'])['revenue'].mean()\n",
    "max_combo = avg_order.idxmax()\n",
    "max_value = avg_order.max()\n",
    "\n",
    "print(f\"Task 4 - Highest Average Order Value:\")\n",
    "print(f\"Product-Region: {max_combo}\")\n",
    "print(f\"Average Order Value: ${max_value:,.2f}\")"
   ]
  },
  {
   "cell_type": "markdown",
   "metadata": {},
   "source": [
    "---\n",
    "# Exercise 14: Unpivot (Melt) for Reshaping\n",
    "\n",
    "**Goal:** Convert wide format back to long format"
   ]
  },
  {
   "cell_type": "code",
   "execution_count": 81,
   "metadata": {},
   "outputs": [
    {
     "name": "stdout",
     "output_type": "stream",
     "text": [
      "Tasks 1-2 - Unpivoted data: 24 rows\n",
      "\n",
      "Sample of long format:\n"
     ]
    },
    {
     "data": {
      "text/html": [
       "<div>\n",
       "<style scoped>\n",
       "    .dataframe tbody tr th:only-of-type {\n",
       "        vertical-align: middle;\n",
       "    }\n",
       "\n",
       "    .dataframe tbody tr th {\n",
       "        vertical-align: top;\n",
       "    }\n",
       "\n",
       "    .dataframe thead th {\n",
       "        text-align: right;\n",
       "    }\n",
       "</style>\n",
       "<table border=\"1\" class=\"dataframe\">\n",
       "  <thead>\n",
       "    <tr style=\"text-align: right;\">\n",
       "      <th></th>\n",
       "      <th>product</th>\n",
       "      <th>region</th>\n",
       "      <th>revenue</th>\n",
       "    </tr>\n",
       "  </thead>\n",
       "  <tbody>\n",
       "    <tr>\n",
       "      <th>0</th>\n",
       "      <td>Add-on</td>\n",
       "      <td>AMER</td>\n",
       "      <td>7157.68</td>\n",
       "    </tr>\n",
       "    <tr>\n",
       "      <th>1</th>\n",
       "      <td>Analytics</td>\n",
       "      <td>AMER</td>\n",
       "      <td>29145.76</td>\n",
       "    </tr>\n",
       "    <tr>\n",
       "      <th>2</th>\n",
       "      <td>Basic</td>\n",
       "      <td>AMER</td>\n",
       "      <td>23934.16</td>\n",
       "    </tr>\n",
       "    <tr>\n",
       "      <th>3</th>\n",
       "      <td>Enterprise</td>\n",
       "      <td>AMER</td>\n",
       "      <td>48927.76</td>\n",
       "    </tr>\n",
       "    <tr>\n",
       "      <th>4</th>\n",
       "      <td>Plus</td>\n",
       "      <td>AMER</td>\n",
       "      <td>33820.45</td>\n",
       "    </tr>\n",
       "    <tr>\n",
       "      <th>5</th>\n",
       "      <td>Pro</td>\n",
       "      <td>AMER</td>\n",
       "      <td>25384.96</td>\n",
       "    </tr>\n",
       "    <tr>\n",
       "      <th>6</th>\n",
       "      <td>Add-on</td>\n",
       "      <td>APAC</td>\n",
       "      <td>6028.36</td>\n",
       "    </tr>\n",
       "    <tr>\n",
       "      <th>7</th>\n",
       "      <td>Analytics</td>\n",
       "      <td>APAC</td>\n",
       "      <td>16493.79</td>\n",
       "    </tr>\n",
       "    <tr>\n",
       "      <th>8</th>\n",
       "      <td>Basic</td>\n",
       "      <td>APAC</td>\n",
       "      <td>17957.99</td>\n",
       "    </tr>\n",
       "    <tr>\n",
       "      <th>9</th>\n",
       "      <td>Enterprise</td>\n",
       "      <td>APAC</td>\n",
       "      <td>29289.86</td>\n",
       "    </tr>\n",
       "  </tbody>\n",
       "</table>\n",
       "</div>"
      ],
      "text/plain": [
       "      product region  revenue\n",
       "0      Add-on   AMER  7157.68\n",
       "1   Analytics   AMER 29145.76\n",
       "2       Basic   AMER 23934.16\n",
       "3  Enterprise   AMER 48927.76\n",
       "4        Plus   AMER 33820.45\n",
       "5         Pro   AMER 25384.96\n",
       "6      Add-on   APAC  6028.36\n",
       "7   Analytics   APAC 16493.79\n",
       "8       Basic   APAC 17957.99\n",
       "9  Enterprise   APAC 29289.86"
      ]
     },
     "metadata": {},
     "output_type": "display_data"
    }
   ],
   "source": [
    "# Tasks 1-2: Melt the pivot table\n",
    "long_format = pivot_rev.reset_index().melt(\n",
    "    id_vars='product',\n",
    "    var_name='region',\n",
    "    value_name='revenue'\n",
    ")\n",
    "\n",
    "print(f\"Tasks 1-2 - Unpivoted data: {len(long_format)} rows\")\n",
    "print(\"\\nSample of long format:\")\n",
    "display(long_format.head(10))"
   ]
  },
  {
   "cell_type": "code",
   "execution_count": 82,
   "metadata": {},
   "outputs": [
    {
     "name": "stdout",
     "output_type": "stream",
     "text": [
      "Task 3 - Total verification:\n",
      "Original total: $460,727.86\n",
      "After pivot/melt: $440,555.08\n",
      "Difference: $20,172.78\n",
      "\n",
      "Match: False\n",
      "\n",
      "(Difference is from orphan products/regions excluded in pivot)\n"
     ]
    }
   ],
   "source": [
    "# Task 3: Verify totals\n",
    "original_total = comprehensive['revenue'].sum()\n",
    "melted_total = long_format['revenue'].sum()\n",
    "\n",
    "print(f\"Task 3 - Total verification:\")\n",
    "print(f\"Original total: ${original_total:,.2f}\")\n",
    "print(f\"After pivot/melt: ${melted_total:,.2f}\")\n",
    "print(f\"Difference: ${abs(original_total - melted_total):,.2f}\")\n",
    "print(f\"\\nMatch: {abs(original_total - melted_total) < 1.0}\")\n",
    "print(\"\\n(Difference is from orphan products/regions excluded in pivot)\")"
   ]
  },
  {
   "cell_type": "code",
   "execution_count": 83,
   "metadata": {},
   "outputs": [
    {
     "name": "stdout",
     "output_type": "stream",
     "text": [
      "Task 4 - Non-zero combinations: 24 out of 24\n"
     ]
    }
   ],
   "source": [
    "# Task 4: Non-zero combinations\n",
    "long_nonzero = long_format[long_format['revenue'] > 0]\n",
    "\n",
    "print(f\"Task 4 - Non-zero combinations: {len(long_nonzero)} out of {len(long_format)}\")"
   ]
  },
  {
   "cell_type": "markdown",
   "metadata": {},
   "source": [
    "---\n",
    "# Exercise 15: Finding Duplicates & Near-Duplicates\n",
    "\n",
    "**Goal:** Identify and handle duplicate records"
   ]
  },
  {
   "cell_type": "code",
   "execution_count": 84,
   "metadata": {},
   "outputs": [
    {
     "name": "stdout",
     "output_type": "stream",
     "text": [
      "Task 1 - Exact duplicates: 0\n"
     ]
    }
   ],
   "source": [
    "# Task 1: Exact duplicates\n",
    "exact_dupes = sales.duplicated()\n",
    "\n",
    "print(f\"Task 1 - Exact duplicates: {exact_dupes.sum()}\")"
   ]
  },
  {
   "cell_type": "code",
   "execution_count": 85,
   "metadata": {},
   "outputs": [
    {
     "name": "stdout",
     "output_type": "stream",
     "text": [
      "Task 2 - Duplicates on order_id + product_id: 0\n"
     ]
    }
   ],
   "source": [
    "# Task 2: Duplicates on key columns\n",
    "key_dupes = sales.duplicated(subset=['order_id', 'product_id'])\n",
    "\n",
    "print(f\"Task 2 - Duplicates on order_id + product_id: {key_dupes.sum()}\")"
   ]
  },
  {
   "cell_type": "code",
   "execution_count": 86,
   "metadata": {},
   "outputs": [
    {
     "name": "stdout",
     "output_type": "stream",
     "text": [
      "Task 3 - Near-duplicates (same key, different values): 0\n"
     ]
    }
   ],
   "source": [
    "# Task 3: Near-duplicates\n",
    "near_dupes = sales.groupby(['order_id', 'product_id']).filter(lambda x: len(x) > 1)\n",
    "\n",
    "print(f\"Task 3 - Near-duplicates (same key, different values): {len(near_dupes)}\")"
   ]
  },
  {
   "cell_type": "code",
   "execution_count": 87,
   "metadata": {},
   "outputs": [
    {
     "name": "stdout",
     "output_type": "stream",
     "text": [
      "Task 4 - Duplicate handling strategies:\n",
      "\n",
      "Strategy 1 - Keep first occurrence:\n",
      "  Rows after deduplication: 260\n",
      "\n",
      "Strategy 2 - Keep highest revenue:\n",
      "  Rows after deduplication: 260\n",
      "\n",
      "Strategy 3 - Flag for manual review:\n",
      "  Records flagged for review: 0\n",
      "\n",
      "✓ Good news: This dataset has no duplicates!\n"
     ]
    }
   ],
   "source": [
    "# Task 4: Strategies for handling duplicates\n",
    "print(\"Task 4 - Duplicate handling strategies:\\n\")\n",
    "\n",
    "print(\"Strategy 1 - Keep first occurrence:\")\n",
    "deduped1 = sales.drop_duplicates(subset=['order_id', 'product_id'], keep='first')\n",
    "print(f\"  Rows after deduplication: {len(deduped1)}\")\n",
    "\n",
    "print(\"\\nStrategy 2 - Keep highest revenue:\")\n",
    "deduped2 = (sales\n",
    "    .sort_values('revenue', ascending=False)\n",
    "    .drop_duplicates(subset=['order_id', 'product_id'], keep='first')\n",
    ")\n",
    "print(f\"  Rows after deduplication: {len(deduped2)}\")\n",
    "\n",
    "print(\"\\nStrategy 3 - Flag for manual review:\")\n",
    "sales['is_duplicate'] = sales.duplicated(subset=['order_id', 'product_id'], keep=False)\n",
    "print(f\"  Records flagged for review: {sales['is_duplicate'].sum()}\")\n",
    "\n",
    "print(\"\\n✓ Good news: This dataset has no duplicates!\")"
   ]
  },
  {
   "cell_type": "markdown",
   "metadata": {},
   "source": [
    "---\n",
    "# BONUS: Reusable Data Cleaning Pipeline\n",
    "\n",
    "**Goal:** Build a function that handles all cleaning and joining"
   ]
  },
  {
   "cell_type": "code",
   "execution_count": 88,
   "metadata": {},
   "outputs": [
    {
     "name": "stdout",
     "output_type": "stream",
     "text": [
      "✓ Pipeline function defined\n"
     ]
    }
   ],
   "source": [
    "def prepare_sales_data(sales_path, products_path, regions_path):\n",
    "    \"\"\"\n",
    "    Load and prepare sales data for analysis\n",
    "    \n",
    "    Args:\n",
    "        sales_path: Path to sales CSV\n",
    "        products_path: Path to products CSV\n",
    "        regions_path: Path to regions CSV\n",
    "    \n",
    "    Returns:\n",
    "        pd.DataFrame: Clean, joined, analysis-ready data\n",
    "    \"\"\"\n",
    "    # Load\n",
    "    sales = pd.read_csv(sales_path)\n",
    "    products = pd.read_csv(products_path)\n",
    "    regions = pd.read_csv(regions_path)\n",
    "    \n",
    "    # Clean string columns\n",
    "    for df in [sales, products, regions]:\n",
    "        for col in df.select_dtypes(include='object').columns:\n",
    "            if col not in ['order_date', 'order_id']:\n",
    "                df[col] = df[col].str.strip().str.upper()\n",
    "    \n",
    "    # Parse dates\n",
    "    sales['order_date'] = pd.to_datetime(sales['order_date'])\n",
    "    \n",
    "    # Perform joins\n",
    "    result = (sales\n",
    "        .merge(products, on='product_id', how='left')\n",
    "        .merge(regions, on='region_code', how='left')\n",
    "    )\n",
    "    \n",
    "    # Add calculated fields\n",
    "    result['discount_pct'] = (\n",
    "        (result['list_price'] - result['unit_price']) / result['list_price'] * 100\n",
    "    )\n",
    "    result['is_orphan'] = result['product'].isna()\n",
    "    result['expected_revenue'] = result['units'] * result['unit_price']\n",
    "    result['revenue_valid'] = abs(result['revenue'] - result['expected_revenue']) < 0.01\n",
    "    \n",
    "    # Add time dimensions\n",
    "    result['year'] = result['order_date'].dt.year\n",
    "    result['quarter'] = result['order_date'].dt.quarter\n",
    "    result['month'] = result['order_date'].dt.month\n",
    "    result['year_month'] = result['order_date'].dt.to_period('M')\n",
    "    \n",
    "    return result\n",
    "\n",
    "print(\"✓ Pipeline function defined\")"
   ]
  },
  {
   "cell_type": "code",
   "execution_count": 91,
   "metadata": {},
   "outputs": [
    {
     "name": "stdout",
     "output_type": "stream",
     "text": [
      "✓ Pipeline executed successfully!\n",
      "Clean dataset: 260 rows × 20 columns\n",
      "\n",
      "Data quality summary:\n",
      "- Orphan records: 18\n",
      "- Revenue validation issues: 203\n",
      "- Average discount: -0.12%\n"
     ]
    }
   ],
   "source": [
    "# Use the pipeline\n",
    "clean_data = prepare_sales_data(\n",
    "    'files/sales_records.csv',\n",
    "    'files/products_master.csv',\n",
    "    'files/regions_dim.csv'\n",
    ")\n",
    "\n",
    "print(f\"✓ Pipeline executed successfully!\")\n",
    "print(f\"Clean dataset: {len(clean_data)} rows × {len(clean_data.columns)} columns\")\n",
    "\n",
    "print(f\"\\nData quality summary:\")\n",
    "print(f\"- Orphan records: {clean_data['is_orphan'].sum()}\")\n",
    "print(f\"- Revenue validation issues: {(~clean_data['revenue_valid']).sum()}\")\n",
    "print(f\"- Average discount: {clean_data['discount_pct'].mean():.2f}%\")"
   ]
  },
  {
   "cell_type": "code",
   "execution_count": null,
   "metadata": {},
   "outputs": [],
   "source": []
  }
 ],
 "metadata": {
  "kernelspec": {
   "display_name": "Python 3",
   "language": "python",
   "name": "python3"
  },
  "language_info": {
   "codemirror_mode": {
    "name": "ipython",
    "version": 3
   },
   "file_extension": ".py",
   "mimetype": "text/x-python",
   "name": "python",
   "nbconvert_exporter": "python",
   "pygments_lexer": "ipython3",
   "version": "3.8.0"
  }
 },
 "nbformat": 4,
 "nbformat_minor": 4
}
